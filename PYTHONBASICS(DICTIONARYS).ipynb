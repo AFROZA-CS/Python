{
  "nbformat": 4,
  "nbformat_minor": 0,
  "metadata": {
    "colab": {
      "provenance": []
    },
    "kernelspec": {
      "name": "python3",
      "display_name": "Python 3"
    },
    "language_info": {
      "name": "python"
    }
  },
  "cells": [
    {
      "cell_type": "code",
      "execution_count": 1,
      "metadata": {
        "id": "8xCBgtOhzyN0",
        "colab": {
          "base_uri": "https://localhost:8080/"
        },
        "outputId": "37290d54-f210-4310-9834-8dba6c2dc526"
      },
      "outputs": [
        {
          "output_type": "execute_result",
          "data": {
            "text/plain": [
              "{'key_1': 3.14,\n",
              " 'key_2': 1.618,\n",
              " 'key_3': True,\n",
              " 'key_4': [3.14, 1.618],\n",
              " 'key_5': (3.14, 1.618),\n",
              " 'key_6': 2022,\n",
              " (3.14, 1.618): 'pi and golden ratio'}"
            ]
          },
          "metadata": {},
          "execution_count": 1
        }
      ],
      "source": [
        "# Take a sample dictionary\n",
        "\n",
        "sample_dict = {'key_1': 3.14, 'key_2': 1.618,\n",
        "               'key_3': True, 'key_4': [3.14, 1.618],\n",
        "               'key_5': (3.14, 1.618), 'key_6': 2022, (3.14, 1.618): 'pi and golden ratio'}\n",
        "sample_dict"
      ]
    },
    {
      "cell_type": "code",
      "source": [
        "# Accessing to the value using the key\n",
        "print(sample_dict['key_1'])\n",
        "print(sample_dict['key_2'])\n",
        "print(sample_dict['key_3'])\n",
        "print(sample_dict['key_4'])\n",
        "print(sample_dict['key_5'])\n",
        "print(sample_dict['key_6'])\n",
        "print(sample_dict[(3.14, 1.618)])\n",
        "# Keys can be any immutable object like tuple"
      ],
      "metadata": {
        "colab": {
          "base_uri": "https://localhost:8080/"
        },
        "id": "u4UUWMI36wFR",
        "outputId": "3d2183f6-ac8a-431e-ac15-38bf9d90899e"
      },
      "execution_count": 2,
      "outputs": [
        {
          "output_type": "stream",
          "name": "stdout",
          "text": [
            "3.14\n",
            "1.618\n",
            "True\n",
            "[3.14, 1.618]\n",
            "(3.14, 1.618)\n",
            "2022\n",
            "pi and golden ratio\n"
          ]
        }
      ]
    },
    {
      "cell_type": "code",
      "source": [
        "# Take a sample dictionary\n",
        "product = {'Aspergillus niger': 'inulinase', 'Saccharomyces cerevisiae': 'ethanol', 'Scheffersomyces stipitis': 'ethanol', 'Aspergillus sojae_1': 'mannanase', 'Streptococcus zooepidemicus': 'hyaluronic acid', 'Lactobacillus casei': 'lactic acid', 'Aspergillus sojae_2': 'polygalacturonase'}\n",
        "product"
      ],
      "metadata": {
        "colab": {
          "base_uri": "https://localhost:8080/"
        },
        "id": "tT8i3ezb673J",
        "outputId": "2a3abfd5-7c0c-4d80-d54c-70905de29b95"
      },
      "execution_count": 1,
      "outputs": [
        {
          "output_type": "execute_result",
          "data": {
            "text/plain": [
              "{'Aspergillus niger': 'inulinase',\n",
              " 'Saccharomyces cerevisiae': 'ethanol',\n",
              " 'Scheffersomyces stipitis': 'ethanol',\n",
              " 'Aspergillus sojae_1': 'mannanase',\n",
              " 'Streptococcus zooepidemicus': 'hyaluronic acid',\n",
              " 'Lactobacillus casei': 'lactic acid',\n",
              " 'Aspergillus sojae_2': 'polygalacturonase'}"
            ]
          },
          "metadata": {},
          "execution_count": 1
        }
      ]
    },
    {
      "cell_type": "code",
      "source": [
        "# Retrieving the value by keys\n",
        "print(product['Aspergillus niger'])\n",
        "print(product['Saccharomyces cerevisiae'])\n",
        "print(product['Scheffersomyces stipitis'])"
      ],
      "metadata": {
        "colab": {
          "base_uri": "https://localhost:8080/"
        },
        "id": "_TfzBIWO7RiF",
        "outputId": "a5af7c48-4c7d-4a2a-c596-0e19da02bdf9"
      },
      "execution_count": 2,
      "outputs": [
        {
          "output_type": "stream",
          "name": "stdout",
          "text": [
            "inulinase\n",
            "ethanol\n",
            "ethanol\n"
          ]
        }
      ]
    },
    {
      "cell_type": "code",
      "source": [
        "product['Yarrovia lipolytica'] = 'microbial oil'\n",
        "product"
      ],
      "metadata": {
        "colab": {
          "base_uri": "https://localhost:8080/"
        },
        "id": "5mQ1VEpd7cCu",
        "outputId": "4a1b2e20-68e2-4406-f136-6eb518ec65bf"
      },
      "execution_count": 3,
      "outputs": [
        {
          "output_type": "execute_result",
          "data": {
            "text/plain": [
              "{'Aspergillus niger': 'inulinase',\n",
              " 'Saccharomyces cerevisiae': 'ethanol',\n",
              " 'Scheffersomyces stipitis': 'ethanol',\n",
              " 'Aspergillus sojae_1': 'mannanase',\n",
              " 'Streptococcus zooepidemicus': 'hyaluronic acid',\n",
              " 'Lactobacillus casei': 'lactic acid',\n",
              " 'Aspergillus sojae_2': 'polygalacturonase',\n",
              " 'Yarrovia lipolytica': 'microbial oil'}"
            ]
          },
          "metadata": {},
          "execution_count": 3
        }
      ]
    },
    {
      "cell_type": "code",
      "source": [
        "del(product['Aspergillus niger'])\n",
        "del(product['Aspergillus sojae_1'])\n",
        "product"
      ],
      "metadata": {
        "colab": {
          "base_uri": "https://localhost:8080/"
        },
        "id": "eU-G1a4r7mz6",
        "outputId": "e495f61a-81da-47f5-e663-32caddc52d61"
      },
      "execution_count": 4,
      "outputs": [
        {
          "output_type": "execute_result",
          "data": {
            "text/plain": [
              "{'Saccharomyces cerevisiae': 'ethanol',\n",
              " 'Scheffersomyces stipitis': 'ethanol',\n",
              " 'Streptococcus zooepidemicus': 'hyaluronic acid',\n",
              " 'Lactobacillus casei': 'lactic acid',\n",
              " 'Aspergillus sojae_2': 'polygalacturonase',\n",
              " 'Yarrovia lipolytica': 'microbial oil'}"
            ]
          },
          "metadata": {},
          "execution_count": 4
        }
      ]
    },
    {
      "cell_type": "code",
      "source": [
        "print('Saccharomyces cerevisiae' in product)\n",
        "print('Saccharomyces cerevisiae' not in product)"
      ],
      "metadata": {
        "colab": {
          "base_uri": "https://localhost:8080/"
        },
        "id": "tIZCzY777uxI",
        "outputId": "7c7547d8-3f3f-4e2a-c17d-8902f311e943"
      },
      "execution_count": 5,
      "outputs": [
        {
          "output_type": "stream",
          "name": "stdout",
          "text": [
            "True\n",
            "False\n"
          ]
        }
      ]
    },
    {
      "cell_type": "code",
      "source": [
        "dict_sample = dict(family = 'music', type='pop', year='2022' , name='happy new year')\n",
        "dict_sample"
      ],
      "metadata": {
        "colab": {
          "base_uri": "https://localhost:8080/"
        },
        "id": "D8duGa1Y71Fz",
        "outputId": "3f56e9a2-555f-4ef9-9809-859f3760df1a"
      },
      "execution_count": 6,
      "outputs": [
        {
          "output_type": "execute_result",
          "data": {
            "text/plain": [
              "{'family': 'music', 'type': 'pop', 'year': '2022', 'name': 'happy new year'}"
            ]
          },
          "metadata": {},
          "execution_count": 6
        }
      ]
    },
    {
      "cell_type": "code",
      "source": [
        "# Numerical index is not used to take the dictionary values. It gives a KeyError\n",
        "dict_sample[1]"
      ],
      "metadata": {
        "colab": {
          "base_uri": "https://localhost:8080/",
          "height": 250
        },
        "id": "SDBowzdv7_7j",
        "outputId": "1a8318b2-5d2a-43af-a236-4a2ce3fd52bd"
      },
      "execution_count": 7,
      "outputs": [
        {
          "output_type": "error",
          "ename": "KeyError",
          "evalue": "ignored",
          "traceback": [
            "\u001b[0;31m---------------------------------------------------------------------------\u001b[0m",
            "\u001b[0;31mKeyError\u001b[0m                                  Traceback (most recent call last)",
            "\u001b[0;32m<ipython-input-7-7bb3d48ab295>\u001b[0m in \u001b[0;36m<cell line: 2>\u001b[0;34m()\u001b[0m\n\u001b[1;32m      1\u001b[0m \u001b[0;31m# Numerical index is not used to take the dictionary values. It gives a KeyError\u001b[0m\u001b[0;34m\u001b[0m\u001b[0;34m\u001b[0m\u001b[0m\n\u001b[0;32m----> 2\u001b[0;31m \u001b[0mdict_sample\u001b[0m\u001b[0;34m[\u001b[0m\u001b[0;36m1\u001b[0m\u001b[0;34m]\u001b[0m\u001b[0;34m\u001b[0m\u001b[0;34m\u001b[0m\u001b[0m\n\u001b[0m",
            "\u001b[0;31mKeyError\u001b[0m: 1"
          ]
        }
      ]
    },
    {
      "cell_type": "code",
      "source": [
        "dict_sample = dict(family = 'music', type='pop', year='2022' , name='happy new year')\n",
        "dict_sample.clear()\n",
        "dict_sample"
      ],
      "metadata": {
        "colab": {
          "base_uri": "https://localhost:8080/"
        },
        "id": "fvHYELwY8RwJ",
        "outputId": "750c9f3f-5df6-4c0b-fcbd-58c0efaf0eec"
      },
      "execution_count": 9,
      "outputs": [
        {
          "output_type": "execute_result",
          "data": {
            "text/plain": [
              "{}"
            ]
          },
          "metadata": {},
          "execution_count": 9
        }
      ]
    },
    {
      "cell_type": "code",
      "source": [
        "sample_original = dict(family = 'music', type='pop', year='2022' , name='happy new year')\n",
        "sample_copy = sample_original.copy()\n",
        "print(sample_original)\n",
        "print(sample_copy)"
      ],
      "metadata": {
        "colab": {
          "base_uri": "https://localhost:8080/"
        },
        "id": "WgdlIRU88c6-",
        "outputId": "ebb7f86d-18cc-4f97-aea1-89f21067fecf"
      },
      "execution_count": 11,
      "outputs": [
        {
          "output_type": "stream",
          "name": "stdout",
          "text": [
            "{'family': 'music', 'type': 'pop', 'year': '2022', 'name': 'happy new year'}\n",
            "{'family': 'music', 'type': 'pop', 'year': '2022', 'name': 'happy new year'}\n"
          ]
        }
      ]
    },
    {
      "cell_type": "code",
      "source": [
        "# This method can be made usign '=' sign\n",
        "sample_copy = sample_original\n",
        "print(sample_copy)\n",
        "print(sample_original)"
      ],
      "metadata": {
        "colab": {
          "base_uri": "https://localhost:8080/"
        },
        "id": "W4-o2WU18rlO",
        "outputId": "fe619067-1a75-4671-f6a8-b9ea34a853fb"
      },
      "execution_count": 12,
      "outputs": [
        {
          "output_type": "stream",
          "name": "stdout",
          "text": [
            "{'family': 'music', 'type': 'pop', 'year': '2022', 'name': 'happy new year'}\n",
            "{'family': 'music', 'type': 'pop', 'year': '2022', 'name': 'happy new year'}\n"
          ]
        }
      ]
    },
    {
      "cell_type": "code",
      "source": [
        "sample_original = dict(family = 'music', type='pop', year='2022' , name='happy new year')\n",
        "print(sample_original.pop('type'))\n",
        "print(sample_original)"
      ],
      "metadata": {
        "colab": {
          "base_uri": "https://localhost:8080/"
        },
        "id": "4l46E8cV800X",
        "outputId": "b36f9d1b-4bba-4d41-adbf-7a9b9d8a8fba"
      },
      "execution_count": 13,
      "outputs": [
        {
          "output_type": "stream",
          "name": "stdout",
          "text": [
            "pop\n",
            "{'family': 'music', 'year': '2022', 'name': 'happy new year'}\n"
          ]
        }
      ]
    },
    {
      "cell_type": "code",
      "source": [
        "sample_original = dict(family = 'music', type='pop', year='2022' , name='happy new year')\n",
        "print(sample_original.popitem())\n",
        "print(sample_original)"
      ],
      "metadata": {
        "colab": {
          "base_uri": "https://localhost:8080/"
        },
        "id": "Zq0b90GA9AJ1",
        "outputId": "519dfde6-5d26-43c5-b8bf-ed5fa9ad5de9"
      },
      "execution_count": 14,
      "outputs": [
        {
          "output_type": "stream",
          "name": "stdout",
          "text": [
            "('name', 'happy new year')\n",
            "{'family': 'music', 'type': 'pop', 'year': '2022'}\n"
          ]
        }
      ]
    },
    {
      "cell_type": "code",
      "source": [
        "sample_original = dict(family = 'music', type='pop', year='2022' , name='happy new year')\n",
        "print(sample_original.get('family'))\n",
        "print(sample_original.get(3))"
      ],
      "metadata": {
        "colab": {
          "base_uri": "https://localhost:8080/"
        },
        "id": "kMY5wGCf9JV6",
        "outputId": "f255fa03-b206-41a1-b7d9-09aa5d815c37"
      },
      "execution_count": 15,
      "outputs": [
        {
          "output_type": "stream",
          "name": "stdout",
          "text": [
            "music\n",
            "None\n"
          ]
        }
      ]
    },
    {
      "cell_type": "code",
      "source": [
        "keys = {'A', 'T', 'C', 'G'}\n",
        "sequence = dict.fromkeys(keys)\n",
        "print(sequence)"
      ],
      "metadata": {
        "colab": {
          "base_uri": "https://localhost:8080/"
        },
        "id": "7BnNVbNo9RTy",
        "outputId": "56255d79-e7c0-49ae-f61c-dc48baac5286"
      },
      "execution_count": 16,
      "outputs": [
        {
          "output_type": "stream",
          "name": "stdout",
          "text": [
            "{'T': None, 'C': None, 'G': None, 'A': None}\n"
          ]
        }
      ]
    },
    {
      "cell_type": "code",
      "source": [
        "product = {'Aspergillus niger': 'inulinase', 'Saccharomyces cerevisiae': 'ethanol', 'Scheffersomyces stipilis': 'ethanol', 'Aspergillus sojae_1': 'mannanase', 'Streptococcus zooepidemicus': 'hyaluronic acid', 'Lactobacillus casei': 'lactic acid', 'Aspergillus sojae_2': 'polygalacturonase'}\n",
        "sample_original = dict(family = 'music', type='pop', year='2022' , name='happy new year')\n",
        "product.update(sample_original)\n",
        "print(product)"
      ],
      "metadata": {
        "colab": {
          "base_uri": "https://localhost:8080/"
        },
        "id": "0t9rBGOG9X4D",
        "outputId": "eba0f317-728c-4cff-acc7-73a83a19d7e9"
      },
      "execution_count": 17,
      "outputs": [
        {
          "output_type": "stream",
          "name": "stdout",
          "text": [
            "{'Aspergillus niger': 'inulinase', 'Saccharomyces cerevisiae': 'ethanol', 'Scheffersomyces stipilis': 'ethanol', 'Aspergillus sojae_1': 'mannanase', 'Streptococcus zooepidemicus': 'hyaluronic acid', 'Lactobacillus casei': 'lactic acid', 'Aspergillus sojae_2': 'polygalacturonase', 'family': 'music', 'type': 'pop', 'year': '2022', 'name': 'happy new year'}\n"
          ]
        }
      ]
    },
    {
      "cell_type": "code",
      "source": [
        "product = {'Aspergillus niger': 'inulinase', 'Saccharomyces cerevisiae': 'ethanol', 'Scheffersomyces stipilis': 'ethanol', 'Aspergillus sojae_1': 'mannanase', 'Streptococcus zooepidemicus': 'hyaluronic acid', 'Lactobacillus casei': 'lactic acid', 'Aspergillus sojae_2': 'polygalacturonase'}\n",
        "product.items()"
      ],
      "metadata": {
        "colab": {
          "base_uri": "https://localhost:8080/"
        },
        "id": "w23n_v8t9p8z",
        "outputId": "9b954d19-eea8-4bb7-d25c-c17db1e5ed36"
      },
      "execution_count": 18,
      "outputs": [
        {
          "output_type": "execute_result",
          "data": {
            "text/plain": [
              "dict_items([('Aspergillus niger', 'inulinase'), ('Saccharomyces cerevisiae', 'ethanol'), ('Scheffersomyces stipilis', 'ethanol'), ('Aspergillus sojae_1', 'mannanase'), ('Streptococcus zooepidemicus', 'hyaluronic acid'), ('Lactobacillus casei', 'lactic acid'), ('Aspergillus sojae_2', 'polygalacturonase')])"
            ]
          },
          "metadata": {},
          "execution_count": 18
        }
      ]
    },
    {
      "cell_type": "code",
      "source": [
        "# 'for' loop print all the keys in the dictionary\n",
        "product = {'Aspergillus niger': 'inulinase', 'Saccharomyces cerevisiae': 'ethanol', 'Scheffersomyces stipitis': 'ethanol', 'Aspergillus sojae_1': 'mannanase', 'Streptococcus zooepidemicus': 'hyaluronic acid', 'Lactobacillus casei': 'lactic acid', 'Aspergillus sojae_2': 'polygalacturonase'}\n",
        "for k in product:\n",
        "  print(k)"
      ],
      "metadata": {
        "colab": {
          "base_uri": "https://localhost:8080/"
        },
        "id": "RXkSvD98-AnE",
        "outputId": "f005ae05-f341-456b-9397-82c892013ca0"
      },
      "execution_count": 19,
      "outputs": [
        {
          "output_type": "stream",
          "name": "stdout",
          "text": [
            "Aspergillus niger\n",
            "Saccharomyces cerevisiae\n",
            "Scheffersomyces stipitis\n",
            "Aspergillus sojae_1\n",
            "Streptococcus zooepidemicus\n",
            "Lactobacillus casei\n",
            "Aspergillus sojae_2\n"
          ]
        }
      ]
    },
    {
      "cell_type": "code",
      "source": [
        "# 'for' loop to print the values of the dictionary by using values() and other method\n",
        "product = {'Aspergillus niger': 'inulinase', 'Saccharomyces cerevisiae': 'ethanol', 'Scheffersomyces stipitis': 'ethanol', 'Aspergillus sojae_1': 'mannanase', 'Streptococcus zooepidemicus': 'hyaluronic acid', 'Lactobacillus casei': 'lactic acid', 'Aspergillus sojae_2': 'polygalacturonase'}\n",
        "for x in product.values():\n",
        "  print(x)\n",
        "\n",
        "print()\n",
        "# 'for' loop to print the values of the dictionary by using values() and other method\n",
        "for x in product:\n",
        "   print(product[x])"
      ],
      "metadata": {
        "colab": {
          "base_uri": "https://localhost:8080/"
        },
        "id": "Xzzdc92e-Ucz",
        "outputId": "41efc1af-e1c3-4278-d06e-fa6145a7f01c"
      },
      "execution_count": 20,
      "outputs": [
        {
          "output_type": "stream",
          "name": "stdout",
          "text": [
            "inulinase\n",
            "ethanol\n",
            "ethanol\n",
            "mannanase\n",
            "hyaluronic acid\n",
            "lactic acid\n",
            "polygalacturonase\n",
            "\n",
            "inulinase\n",
            "ethanol\n",
            "ethanol\n",
            "mannanase\n",
            "hyaluronic acid\n",
            "lactic acid\n",
            "polygalacturonase\n"
          ]
        }
      ]
    },
    {
      "cell_type": "code",
      "source": [
        "# 'for' loop to print the items of the dictionary by using items() method\n",
        "product = {'Aspergillus niger': 'inulinase', 'Saccharomyces cerevisiae': 'ethanol', 'Scheffersomyces stipitis': 'ethanol', 'Aspergillus sojae_1': 'mannanase', 'Streptococcus zooepidemicus': 'hyaluronic acid', 'Lactobacillus casei': 'lactic acid', 'Aspergillus sojae_2': 'polygalacturonase'}\n",
        "for x in product.items():\n",
        "  print(x)"
      ],
      "metadata": {
        "colab": {
          "base_uri": "https://localhost:8080/"
        },
        "id": "5mmeqW_i-qI0",
        "outputId": "4b3fa5ed-a197-4c83-f18b-49623b201086"
      },
      "execution_count": 21,
      "outputs": [
        {
          "output_type": "stream",
          "name": "stdout",
          "text": [
            "('Aspergillus niger', 'inulinase')\n",
            "('Saccharomyces cerevisiae', 'ethanol')\n",
            "('Scheffersomyces stipitis', 'ethanol')\n",
            "('Aspergillus sojae_1', 'mannanase')\n",
            "('Streptococcus zooepidemicus', 'hyaluronic acid')\n",
            "('Lactobacillus casei', 'lactic acid')\n",
            "('Aspergillus sojae_2', 'polygalacturonase')\n"
          ]
        }
      ]
    },
    {
      "cell_type": "code",
      "source": [
        "product = {'Aspergillus niger': 'inulinase', 'Saccharomyces cerevisiae': 'ethanol', 'Scheffersomyces stipitis': 'ethanol', 'Aspergillus sojae_1': 'mannanase', 'Streptococcus zooepidemicus': 'hyaluronic acid', 'Lactobacillus casei': 'lactic acid', 'Aspergillus sojae_2': 'polygalacturonase'}\n",
        "for x, y in product.items():\n",
        "  print(x, y)"
      ],
      "metadata": {
        "colab": {
          "base_uri": "https://localhost:8080/"
        },
        "id": "_VAbUO8gA8V0",
        "outputId": "6fd4f8bb-3fba-4be2-fe44-159c6976d3d8"
      },
      "execution_count": 22,
      "outputs": [
        {
          "output_type": "stream",
          "name": "stdout",
          "text": [
            "Aspergillus niger inulinase\n",
            "Saccharomyces cerevisiae ethanol\n",
            "Scheffersomyces stipitis ethanol\n",
            "Aspergillus sojae_1 mannanase\n",
            "Streptococcus zooepidemicus hyaluronic acid\n",
            "Lactobacillus casei lactic acid\n",
            "Aspergillus sojae_2 polygalacturonase\n"
          ]
        }
      ]
    }
  ]
}