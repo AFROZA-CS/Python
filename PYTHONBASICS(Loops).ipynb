{
  "nbformat": 4,
  "nbformat_minor": 0,
  "metadata": {
    "colab": {
      "provenance": []
    },
    "kernelspec": {
      "name": "python3",
      "display_name": "Python 3"
    },
    "language_info": {
      "name": "python"
    }
  },
  "cells": [
    {
      "cell_type": "code",
      "execution_count": null,
      "metadata": {
        "colab": {
          "base_uri": "https://localhost:8080/"
        },
        "id": "l4yi2nZp2FY4",
        "outputId": "36d58f25-6d4e-4da9-9e13-264ccd92dbaa"
      },
      "outputs": [
        {
          "output_type": "stream",
          "name": "stdout",
          "text": [
            "range(0, 5)\n",
            "range(0, 10)\n"
          ]
        }
      ],
      "source": [
        "# Take a range() function\n",
        "print(range(5))\n",
        "print(range(10))"
      ]
    },
    {
      "cell_type": "code",
      "source": [
        "# Take an example\n",
        "# Diectly accessing to the elements in the list\n",
        "\n",
        "years = [2005, 2006, 2007, 2008, 2009, 2010]\n",
        "\n",
        "for i in years:\n",
        "  print(i)"
      ],
      "metadata": {
        "colab": {
          "base_uri": "https://localhost:8080/"
        },
        "id": "JWDSQk3K2lsk",
        "outputId": "3a4a46fc-27a5-429d-f85c-9646e75e15f8"
      },
      "execution_count": null,
      "outputs": [
        {
          "output_type": "stream",
          "name": "stdout",
          "text": [
            "2005\n",
            "2006\n",
            "2007\n",
            "2008\n",
            "2009\n",
            "2010\n"
          ]
        }
      ]
    },
    {
      "cell_type": "code",
      "source": [
        "# Again, directly accessing to the elements in the list\n",
        "years = [2005, 2006, 2007, 2008, 2009, 2010]\n",
        "for year in years:\n",
        "  print(year)"
      ],
      "metadata": {
        "colab": {
          "base_uri": "https://localhost:8080/"
        },
        "id": "5-2mTzsa3o0b",
        "outputId": "eafbac78-b3f4-4ad9-e2a2-0b20a6a19e4e"
      },
      "execution_count": null,
      "outputs": [
        {
          "output_type": "stream",
          "name": "stdout",
          "text": [
            "2005\n",
            "2006\n",
            "2007\n",
            "2008\n",
            "2009\n",
            "2010\n"
          ]
        }
      ]
    },
    {
      "cell_type": "code",
      "source": [
        "# Take an example\n",
        "\n",
        "years = [2005, 2006, 2007, 2008, 2009, 2010]\n",
        "\n",
        "for i in range(len(years)):\n",
        "  print(years[i])"
      ],
      "metadata": {
        "id": "lfGYUtwO3viY",
        "colab": {
          "base_uri": "https://localhost:8080/"
        },
        "outputId": "cce46d9b-fcc4-4018-be63-935b30e40d79"
      },
      "execution_count": 1,
      "outputs": [
        {
          "output_type": "stream",
          "name": "stdout",
          "text": [
            "2005\n",
            "2006\n",
            "2007\n",
            "2008\n",
            "2009\n",
            "2010\n"
          ]
        }
      ]
    },
    {
      "cell_type": "code",
      "source": [
        "# Another for loop example\n",
        "for i in range(2, 12): print(i)"
      ],
      "metadata": {
        "colab": {
          "base_uri": "https://localhost:8080/"
        },
        "id": "zZCMDblA2ehl",
        "outputId": "284b3e04-92c5-4855-971d-2ef405d41220"
      },
      "execution_count": 2,
      "outputs": [
        {
          "output_type": "stream",
          "name": "stdout",
          "text": [
            "2\n",
            "3\n",
            "4\n",
            "5\n",
            "6\n",
            "7\n",
            "8\n",
            "9\n",
            "10\n",
            "11\n"
          ]
        }
      ]
    },
    {
      "cell_type": "code",
      "source": [
        "# Striding in for loop\n",
        "for i in range(2, 12, 3):\n",
        "  print(i)"
      ],
      "metadata": {
        "colab": {
          "base_uri": "https://localhost:8080/"
        },
        "id": "6fd93Xwp2hPA",
        "outputId": "d56846fe-8409-4b9a-f886-bf90ba4c1473"
      },
      "execution_count": 3,
      "outputs": [
        {
          "output_type": "stream",
          "name": "stdout",
          "text": [
            "2\n",
            "5\n",
            "8\n",
            "11\n"
          ]
        }
      ]
    },
    {
      "cell_type": "code",
      "source": [
        "# Changing the elements in the list\n",
        "languages = ['Java', 'JavaScript', 'C', 'C++', 'PHP']\n",
        "for i in range(len(languages)):\n",
        "  print('Before language', i, 'is', languages[i])\n",
        "  languages[i] = 'Python'\n",
        "  print('After language', i, 'is', languages[i])"
      ],
      "metadata": {
        "colab": {
          "base_uri": "https://localhost:8080/"
        },
        "id": "wj_CNPdQ2ly5",
        "outputId": "b79f6a47-4059-4eb3-de92-83eb3e62f710"
      },
      "execution_count": 5,
      "outputs": [
        {
          "output_type": "stream",
          "name": "stdout",
          "text": [
            "Before language 0 is Java\n",
            "After language 0 is Python\n",
            "Before language 1 is JavaScript\n",
            "After language 1 is Python\n",
            "Before language 2 is C\n",
            "After language 2 is Python\n",
            "Before language 3 is C++\n",
            "After language 3 is Python\n",
            "Before language 4 is PHP\n",
            "After language 4 is Python\n"
          ]
        }
      ]
    },
    {
      "cell_type": "code",
      "source": [
        "# Enumaeration of the elements in the list\n",
        "languages = ['Python', 'Java', 'JavaScript', 'C', 'C++', 'PHP']\n",
        "for index, language in enumerate(languages):\n",
        "  print(index, language)"
      ],
      "metadata": {
        "colab": {
          "base_uri": "https://localhost:8080/"
        },
        "id": "u8nJvMw43FLO",
        "outputId": "de54ed06-083f-495f-81cb-dda97de68afc"
      },
      "execution_count": 6,
      "outputs": [
        {
          "output_type": "stream",
          "name": "stdout",
          "text": [
            "0 Python\n",
            "1 Java\n",
            "2 JavaScript\n",
            "3 C\n",
            "4 C++\n",
            "5 PHP\n"
          ]
        }
      ]
    },
    {
      "cell_type": "code",
      "source": [
        "# Take the numbers between -3 and 6 using for loop\n",
        "# Use range() function\n",
        "\n",
        "for i in range(-3, 7):\n",
        "  print(i)"
      ],
      "metadata": {
        "colab": {
          "base_uri": "https://localhost:8080/"
        },
        "id": "u6M0MxPC5f6L",
        "outputId": "f0289a96-d381-4bd3-ec49-1911bcb84fd1"
      },
      "execution_count": 7,
      "outputs": [
        {
          "output_type": "stream",
          "name": "stdout",
          "text": [
            "-3\n",
            "-2\n",
            "-1\n",
            "0\n",
            "1\n",
            "2\n",
            "3\n",
            "4\n",
            "5\n",
            "6\n"
          ]
        }
      ]
    },
    {
      "cell_type": "code",
      "source": [
        "# Take a list and print the elements using for loop\n",
        "languages = ['Python', 'Java', 'JavaScript', 'C', 'C++', 'PHP']\n",
        "for i in range(len(languages)):\n",
        "  print(i, languages[i])"
      ],
      "metadata": {
        "colab": {
          "base_uri": "https://localhost:8080/"
        },
        "id": "38xF9vfV6uuZ",
        "outputId": "bd401958-f68f-4eed-8e0e-69a691eec45b"
      },
      "execution_count": 8,
      "outputs": [
        {
          "output_type": "stream",
          "name": "stdout",
          "text": [
            "0 Python\n",
            "1 Java\n",
            "2 JavaScript\n",
            "3 C\n",
            "4 C++\n",
            "5 PHP\n"
          ]
        }
      ]
    },
    {
      "cell_type": "code",
      "source": [
        "number1 = int(input('Enter a number:'))\n",
        "number2 = int(input('Enter a number:'))\n",
        "print(f'The entered numbers are {number1} and {number2}.')\n",
        "for i in range(0, 11):\n",
        "  print(('%d x %d = %d' %(number1, i, number1*i)), ',', ('%d x %d = %d' %(number2, i, number2*i )))"
      ],
      "metadata": {
        "colab": {
          "base_uri": "https://localhost:8080/"
        },
        "id": "Qkq_APgJ7Gcr",
        "outputId": "1c65ad1d-9c4b-46ff-9b79-20787dbb8328"
      },
      "execution_count": 9,
      "outputs": [
        {
          "output_type": "stream",
          "name": "stdout",
          "text": [
            "Enter a number:7\n",
            "Enter a number:9\n",
            "The entered numbers are 7 and 9.\n",
            "7 x 0 = 0 , 9 x 0 = 0\n",
            "7 x 1 = 7 , 9 x 1 = 9\n",
            "7 x 2 = 14 , 9 x 2 = 18\n",
            "7 x 3 = 21 , 9 x 3 = 27\n",
            "7 x 4 = 28 , 9 x 4 = 36\n",
            "7 x 5 = 35 , 9 x 5 = 45\n",
            "7 x 6 = 42 , 9 x 6 = 54\n",
            "7 x 7 = 49 , 9 x 7 = 63\n",
            "7 x 8 = 56 , 9 x 8 = 72\n",
            "7 x 9 = 63 , 9 x 9 = 81\n",
            "7 x 10 = 70 , 9 x 10 = 90\n"
          ]
        }
      ]
    },
    {
      "cell_type": "code",
      "source": [
        "# Take a list\n",
        "nlis = [0.577, 2.718, 3.14, 1.618, 1729, 6, 37]\n",
        "\n",
        "# Write a for loop for addition\n",
        "count = 0\n",
        "for i in nlis:\n",
        "  count+=i\n",
        "print('The total value of the numbers in the list is', count)\n",
        "\n",
        "# Calculate the average using len() function\n",
        "print('The avearge value of the numbers in the list is', count/len(nlis))"
      ],
      "metadata": {
        "colab": {
          "base_uri": "https://localhost:8080/"
        },
        "id": "Cpi30rzq7gSu",
        "outputId": "9785da47-5fe2-4882-b27a-6142b7488b00"
      },
      "execution_count": 10,
      "outputs": [
        {
          "output_type": "stream",
          "name": "stdout",
          "text": [
            "The total value of the numbers in the list is 1780.053\n",
            "The avearge value of the numbers in the list is 254.29328571428573\n"
          ]
        }
      ]
    },
    {
      "cell_type": "code",
      "source": [
        "for i in range(1,6):\n",
        "  print(i, end=\", \")\n",
        "else:\n",
        "  print('These are numbers from 1 to 5.')"
      ],
      "metadata": {
        "colab": {
          "base_uri": "https://localhost:8080/"
        },
        "id": "ZOFVaRrH7p7L",
        "outputId": "99eb4cf8-3f57-49c1-ead9-28e82f8b976e"
      },
      "execution_count": 11,
      "outputs": [
        {
          "output_type": "stream",
          "name": "stdout",
          "text": [
            "1, 2, 3, 4, 5, These are numbers from 1 to 5.\n"
          ]
        }
      ]
    },
    {
      "cell_type": "code",
      "source": [
        "num = int(input('Enter a number:'))\n",
        "\n",
        "print(f'The entered the number is {num}.')\n",
        "i, j = 0, 0\n",
        "for i in range(0, num):\n",
        "  print()\n",
        "  for j in range(0, i+1):\n",
        "    print('+', end='')"
      ],
      "metadata": {
        "colab": {
          "base_uri": "https://localhost:8080/"
        },
        "id": "Z6Me7Hwe7wJk",
        "outputId": "5b04af1e-dea6-4c44-9dbd-3688afd60814"
      },
      "execution_count": 13,
      "outputs": [
        {
          "output_type": "stream",
          "name": "stdout",
          "text": [
            "Enter a number:10\n",
            "The entered the number is 10.\n",
            "\n",
            "+\n",
            "++\n",
            "+++\n",
            "++++\n",
            "+++++\n",
            "++++++\n",
            "+++++++\n",
            "++++++++\n",
            "+++++++++\n",
            "++++++++++"
          ]
        }
      ]
    },
    {
      "cell_type": "code",
      "source": [
        "# Take a list\n",
        "nlis = [1,2,4,5,6,7,8,9,10,11,12,13,14]\n",
        "for i in nlis:\n",
        " if i == 5:\n",
        "  continue\n",
        " print(i)\n",
        "\"\"\"\n",
        "You see that the output includes the numbers without 5.\n",
        "The continue function jumps when it meets with the reference. \"\"\""
      ],
      "metadata": {
        "colab": {
          "base_uri": "https://localhost:8080/",
          "height": 260
        },
        "id": "rUMJs78O7-zE",
        "outputId": "e9cb5d56-5864-4c7f-8991-8e621dfa83c7"
      },
      "execution_count": 15,
      "outputs": [
        {
          "output_type": "stream",
          "name": "stdout",
          "text": [
            "1\n",
            "2\n",
            "4\n",
            "6\n",
            "7\n",
            "8\n",
            "9\n",
            "10\n",
            "11\n",
            "12\n",
            "13\n",
            "14\n"
          ]
        },
        {
          "output_type": "execute_result",
          "data": {
            "text/plain": [
              "'\\nYou see that the output includes the numbers without 5.\\nThe continue function jumps when it meets with the reference. '"
            ],
            "application/vnd.google.colaboratory.intrinsic+json": {
              "type": "string"
            }
          },
          "metadata": {},
          "execution_count": 15
        }
      ]
    },
    {
      "cell_type": "code",
      "source": [
        "# Take a list\n",
        "nlis = [1,2,4,5,6,7,8,9,10,11,12,13,14]\n",
        "for i in nlis:\n",
        "  if i == 5:\n",
        "    break\n",
        "  print(i)\n",
        "\"\"\"\n",
        "You see that the output includes the numbers before 5.\n",
        "The break function terminate the loop when it meets with the reference. \"\"\""
      ],
      "metadata": {
        "colab": {
          "base_uri": "https://localhost:8080/",
          "height": 104
        },
        "id": "E5BmDKS88RH9",
        "outputId": "78e0b04d-b868-4172-ac06-21365774f6e9"
      },
      "execution_count": 16,
      "outputs": [
        {
          "output_type": "stream",
          "name": "stdout",
          "text": [
            "1\n",
            "2\n",
            "4\n"
          ]
        },
        {
          "output_type": "execute_result",
          "data": {
            "text/plain": [
              "'\\nYou see that the output includes the numbers before 5.\\nThe break function terminate the loop when it meets with the reference. '"
            ],
            "application/vnd.google.colaboratory.intrinsic+json": {
              "type": "string"
            }
          },
          "metadata": {},
          "execution_count": 16
        }
      ]
    },
    {
      "cell_type": "code",
      "source": [
        "# Take an example\n",
        "i = 22\n",
        "while i<27:\n",
        "  print(i)\n",
        "  i+=1"
      ],
      "metadata": {
        "colab": {
          "base_uri": "https://localhost:8080/"
        },
        "id": "vtCfSVLj8bxt",
        "outputId": "ceefd145-444f-4110-c6fc-d5b5b2c618d1"
      },
      "execution_count": 17,
      "outputs": [
        {
          "output_type": "stream",
          "name": "stdout",
          "text": [
            "22\n",
            "23\n",
            "24\n",
            "25\n",
            "26\n"
          ]
        }
      ]
    },
    {
      "cell_type": "code",
      "source": [
        "#Take an example\n",
        "i = 22\n",
        "while i>=17:\n",
        "  print(i)\n",
        "  i-=1"
      ],
      "metadata": {
        "colab": {
          "base_uri": "https://localhost:8080/"
        },
        "id": "dQu1Se5s8hg6",
        "outputId": "30b67fb5-91a4-44bd-97ea-becf081e4ebd"
      },
      "execution_count": 19,
      "outputs": [
        {
          "output_type": "stream",
          "name": "stdout",
          "text": [
            "22\n",
            "21\n",
            "20\n",
            "19\n",
            "18\n",
            "17\n"
          ]
        }
      ]
    },
    {
      "cell_type": "code",
      "source": [
        "# Take an example\n",
        "years = [2005, 2006, 2007, 2008, 2009, 2010]\n",
        "\n",
        "index = 0\n",
        "\n",
        "year = years[0]\n",
        "while year !=2008:\n",
        "  print(year)\n",
        "  index+=1\n",
        "  year = years[index]\n",
        "print('It gives us only', index, 'repetitons to get out of loop')"
      ],
      "metadata": {
        "colab": {
          "base_uri": "https://localhost:8080/"
        },
        "id": "5b6iWmId8nvn",
        "outputId": "f5570e2f-e579-4e48-a4e2-4ef55980bd39"
      },
      "execution_count": 20,
      "outputs": [
        {
          "output_type": "stream",
          "name": "stdout",
          "text": [
            "2005\n",
            "2006\n",
            "2007\n",
            "It gives us only 3 repetitons to get out of loop\n"
          ]
        }
      ]
    },
    {
      "cell_type": "code",
      "source": [
        "# Print the movie ratings gretater than 6.\n",
        "movie_rating = [8.0, 7.5, 5.4, 9.1, 6.3, 6.5, 2.1, 4.8, 3.3]\n",
        "\n",
        "index = 0\n",
        "rating = movie_rating[0]\n",
        "\n",
        "while rating>=6:\n",
        "  print(rating)\n",
        "  index += 1\n",
        "  rating = movie_rating[index]\n",
        "print('There is only', index, 'movie rating, because the loop stops when it meets with the number lower than 6.')"
      ],
      "metadata": {
        "colab": {
          "base_uri": "https://localhost:8080/"
        },
        "id": "ws_hhwXx86ob",
        "outputId": "38bf6ced-c334-4bdf-fdc5-8bd41b11db86"
      },
      "execution_count": 21,
      "outputs": [
        {
          "output_type": "stream",
          "name": "stdout",
          "text": [
            "8.0\n",
            "7.5\n",
            "There is only 2 movie rating, because the loop stops when it meets with the number lower than 6.\n"
          ]
        }
      ]
    },
    {
      "cell_type": "code",
      "source": [
        "# Print the movie ratings gretater than 6.\n",
        "movie_rating = [8.0, 7.5, 5.4, 9.1, 6.3, 6.5, 2.1, 4.8, 3.3]\n",
        "\n",
        "index = 0\n",
        "for i in range(len(movie_rating)):\n",
        "  if movie_rating[i] >= 6:\n",
        "    index += 1\n",
        "    print(index, movie_rating[i])\n",
        "print('There is only', index, 'films gretater than movie rating 6')"
      ],
      "metadata": {
        "colab": {
          "base_uri": "https://localhost:8080/"
        },
        "id": "njC5IE5n9Phe",
        "outputId": "76837333-3796-4e16-ba1c-ce63da14f9c7"
      },
      "execution_count": 1,
      "outputs": [
        {
          "output_type": "stream",
          "name": "stdout",
          "text": [
            "1 8.0\n",
            "2 7.5\n",
            "3 9.1\n",
            "4 6.3\n",
            "5 6.5\n",
            "There is only 5 films gretater than movie rating 6\n"
          ]
        }
      ]
    },
    {
      "cell_type": "code",
      "source": [
        "# Adding the element in a list to a new list\n",
        "fruits = ['banana', 'apple', 'banana', 'orange', 'kiwi', 'banana', 'Cherry', 'Grapes']\n",
        "\n",
        "new_fruits = []\n",
        "\n",
        "index = 0\n",
        "while fruits[index] == 'banana':\n",
        "  new_fruits.append(fruits[index])\n",
        "  index += 1\n",
        "print(new_fruits)"
      ],
      "metadata": {
        "id": "ZmDwWBdI9iik",
        "outputId": "e4984158-1dfe-4320-b3d4-cefc510ae188",
        "colab": {
          "base_uri": "https://localhost:8080/"
        }
      },
      "execution_count": 3,
      "outputs": [
        {
          "output_type": "stream",
          "name": "stdout",
          "text": [
            "['banana']\n"
          ]
        }
      ]
    },
    {
      "cell_type": "code",
      "source": [
        "number1 = int(input('Enter a number:'))\n",
        "number2 = int(input('Enter a number:'))\n",
        "print(f'The entered numbers are {number1} and {number2}.')\n",
        "\n",
        "i=0\n",
        "while i<=10:\n",
        "   print(('%d x %d = %d' %(number1, i, number1*i)), ',', ('%d x %d = %d' %(number2, i, number2*i )))\n",
        "   i+=1"
      ],
      "metadata": {
        "id": "UqGrmd-m99hZ",
        "outputId": "bf547bf4-0e69-42c1-e9ac-4c3d1e6dc7f9",
        "colab": {
          "base_uri": "https://localhost:8080/"
        }
      },
      "execution_count": 4,
      "outputs": [
        {
          "output_type": "stream",
          "name": "stdout",
          "text": [
            "Enter a number:8\n",
            "Enter a number:9\n",
            "The entered numbers are 8 and 9.\n",
            "8 x 0 = 0 , 9 x 0 = 0\n",
            "8 x 1 = 8 , 9 x 1 = 9\n",
            "8 x 2 = 16 , 9 x 2 = 18\n",
            "8 x 3 = 24 , 9 x 3 = 27\n",
            "8 x 4 = 32 , 9 x 4 = 36\n",
            "8 x 5 = 40 , 9 x 5 = 45\n",
            "8 x 6 = 48 , 9 x 6 = 54\n",
            "8 x 7 = 56 , 9 x 7 = 63\n",
            "8 x 8 = 64 , 9 x 8 = 72\n",
            "8 x 9 = 72 , 9 x 9 = 81\n",
            "8 x 10 = 80 , 9 x 10 = 90\n"
          ]
        }
      ]
    },
    {
      "cell_type": "code",
      "source": [
        "index = 0\n",
        "while index <=5:\n",
        "  print(index, end=' ')\n",
        "  index += 1\n",
        "else:\n",
        "  print('It gives us the numbers between 0 and 5.')"
      ],
      "metadata": {
        "id": "0BQ79PqF-Llq",
        "outputId": "70fd79e4-ebf7-46aa-c471-2f638523a45b",
        "colab": {
          "base_uri": "https://localhost:8080/"
        }
      },
      "execution_count": 5,
      "outputs": [
        {
          "output_type": "stream",
          "name": "stdout",
          "text": [
            "0 1 2 3 4 5 It gives us the numbers between 0 and 5.\n"
          ]
        }
      ]
    },
    {
      "cell_type": "code",
      "source": [
        "i=0\n",
        "while i<=5:\n",
        "  print(i)\n",
        "  i+=1\n",
        "  if i == 3:\n",
        "    continue"
      ],
      "metadata": {
        "id": "K3FZpw8Q-f1s",
        "outputId": "1cabb907-4af9-42da-e2f7-c4ca26ec9b95",
        "colab": {
          "base_uri": "https://localhost:8080/"
        }
      },
      "execution_count": 6,
      "outputs": [
        {
          "output_type": "stream",
          "name": "stdout",
          "text": [
            "0\n",
            "1\n",
            "2\n",
            "3\n",
            "4\n",
            "5\n"
          ]
        }
      ]
    },
    {
      "cell_type": "code",
      "source": [
        "i=0\n",
        "while i<=5:\n",
        "  print(i)\n",
        "  i+=1\n",
        "  if i == 3:\n",
        "   break"
      ],
      "metadata": {
        "id": "Qh5Waqj0-pwU",
        "outputId": "60411c5b-4567-43de-cb1f-26f4abfad4d6",
        "colab": {
          "base_uri": "https://localhost:8080/"
        }
      },
      "execution_count": 8,
      "outputs": [
        {
          "output_type": "stream",
          "name": "stdout",
          "text": [
            "0\n",
            "1\n",
            "2\n"
          ]
        }
      ]
    }
  ]
}