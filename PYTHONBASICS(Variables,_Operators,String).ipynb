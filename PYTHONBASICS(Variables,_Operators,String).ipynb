{
  "nbformat": 4,
  "nbformat_minor": 0,
  "metadata": {
    "colab": {
      "provenance": []
    },
    "kernelspec": {
      "name": "python3",
      "display_name": "Python 3"
    },
    "language_info": {
      "name": "python"
    }
  },
  "cells": [
    {
      "cell_type": "markdown",
      "source": [
        "START"
      ],
      "metadata": {
        "id": "VMDjY1W14bEq"
      }
    },
    {
      "cell_type": "code",
      "execution_count": 6,
      "metadata": {
        "id": "s98wUx0S7Pvw",
        "colab": {
          "base_uri": "https://localhost:8080/"
        },
        "outputId": "0809ca9b-86af-4a57-82fb-e3aba2615980"
      },
      "outputs": [
        {
          "output_type": "stream",
          "name": "stdout",
          "text": [
            "Hello World!\n",
            "Hi,Python!\n"
          ]
        }
      ],
      "source": [
        "\n",
        "print('Hello World!')\n",
        "print('Hi,Python!')\n"
      ]
    },
    {
      "cell_type": "code",
      "source": [
        "import sys\n",
        "print(sys.version)     # version control\n",
        "print(sys.gettrace)    # get the global debug tracing function\n",
        "print(sys.argv)        # keeps the parameters used while running the program we wrote in a list.\n",
        ""
      ],
      "metadata": {
        "colab": {
          "base_uri": "https://localhost:8080/"
        },
        "id": "hVeiRiyuIbIx",
        "outputId": "8fa11d03-d894-48ca-a9ba-9bc47a51d6a8"
      },
      "execution_count": 11,
      "outputs": [
        {
          "output_type": "stream",
          "name": "stdout",
          "text": [
            "3.10.12 (main, Nov 20 2023, 15:14:05) [GCC 11.4.0]\n",
            "<built-in function gettrace>\n",
            "['/usr/local/lib/python3.10/dist-packages/colab_kernel_launcher.py', '-f', '/root/.local/share/jupyter/runtime/kernel-c4fc0fd0-db45-4f63-a36d-3a56123fb7e3.json']\n"
          ]
        }
      ]
    },
    {
      "cell_type": "code",
      "source": [
        "help(sys) # here the module name is 'sys'"
      ],
      "metadata": {
        "colab": {
          "base_uri": "https://localhost:8080/"
        },
        "id": "OdongfgaKFGN",
        "outputId": "b5dc2de4-c09e-4450-a903-bdab876f636d"
      },
      "execution_count": 12,
      "outputs": [
        {
          "output_type": "stream",
          "name": "stdout",
          "text": [
            "Help on built-in module sys:\n",
            "\n",
            "NAME\n",
            "    sys\n",
            "\n",
            "MODULE REFERENCE\n",
            "    https://docs.python.org/3.10/library/sys.html\n",
            "    \n",
            "    The following documentation is automatically generated from the Python\n",
            "    source files.  It may be incomplete, incorrect or include features that\n",
            "    are considered implementation detail and may vary between Python\n",
            "    implementations.  When in doubt, consult the module reference at the\n",
            "    location listed above.\n",
            "\n",
            "DESCRIPTION\n",
            "    This module provides access to some objects used or maintained by the\n",
            "    interpreter and to functions that interact strongly with the interpreter.\n",
            "    \n",
            "    Dynamic objects:\n",
            "    \n",
            "    argv -- command line arguments; argv[0] is the script pathname if known\n",
            "    path -- module search path; path[0] is the script directory, else ''\n",
            "    modules -- dictionary of loaded modules\n",
            "    \n",
            "    displayhook -- called to show results in an interactive session\n",
            "    excepthook -- called to handle any uncaught exception other than SystemExit\n",
            "      To customize printing in an interactive session or to install a custom\n",
            "      top-level exception handler, assign other functions to replace these.\n",
            "    \n",
            "    stdin -- standard input file object; used by input()\n",
            "    stdout -- standard output file object; used by print()\n",
            "    stderr -- standard error object; used for error messages\n",
            "      By assigning other file objects (or objects that behave like files)\n",
            "      to these, it is possible to redirect all of the interpreter's I/O.\n",
            "    \n",
            "    last_type -- type of last uncaught exception\n",
            "    last_value -- value of last uncaught exception\n",
            "    last_traceback -- traceback of last uncaught exception\n",
            "      These three are only available in an interactive session after a\n",
            "      traceback has been printed.\n",
            "    \n",
            "    Static objects:\n",
            "    \n",
            "    builtin_module_names -- tuple of module names built into this interpreter\n",
            "    copyright -- copyright notice pertaining to this interpreter\n",
            "    exec_prefix -- prefix used to find the machine-specific Python library\n",
            "    executable -- absolute path of the executable binary of the Python interpreter\n",
            "    float_info -- a named tuple with information about the float implementation.\n",
            "    float_repr_style -- string indicating the style of repr() output for floats\n",
            "    hash_info -- a named tuple with information about the hash algorithm.\n",
            "    hexversion -- version information encoded as a single integer\n",
            "    implementation -- Python implementation information.\n",
            "    int_info -- a named tuple with information about the int implementation.\n",
            "    maxsize -- the largest supported length of containers.\n",
            "    maxunicode -- the value of the largest Unicode code point\n",
            "    platform -- platform identifier\n",
            "    prefix -- prefix used to find the Python library\n",
            "    thread_info -- a named tuple with information about the thread implementation.\n",
            "    version -- the version of this interpreter as a string\n",
            "    version_info -- version information as a named tuple\n",
            "    __stdin__ -- the original stdin; don't touch!\n",
            "    __stdout__ -- the original stdout; don't touch!\n",
            "    __stderr__ -- the original stderr; don't touch!\n",
            "    __displayhook__ -- the original displayhook; don't touch!\n",
            "    __excepthook__ -- the original excepthook; don't touch!\n",
            "    \n",
            "    Functions:\n",
            "    \n",
            "    displayhook() -- print an object to the screen, and save it in builtins._\n",
            "    excepthook() -- print an exception and its traceback to sys.stderr\n",
            "    exc_info() -- return thread-safe information about the current exception\n",
            "    exit() -- exit the interpreter by raising SystemExit\n",
            "    getdlopenflags() -- returns flags to be used for dlopen() calls\n",
            "    getprofile() -- get the global profiling function\n",
            "    getrefcount() -- return the reference count for an object (plus one :-)\n",
            "    getrecursionlimit() -- return the max recursion depth for the interpreter\n",
            "    getsizeof() -- return the size of an object in bytes\n",
            "    gettrace() -- get the global debug tracing function\n",
            "    setdlopenflags() -- set the flags to be used for dlopen() calls\n",
            "    setprofile() -- set the global profiling function\n",
            "    setrecursionlimit() -- set the max recursion depth for the interpreter\n",
            "    settrace() -- set the global debug tracing function\n",
            "\n",
            "FUNCTIONS\n",
            "    __breakpointhook__ = breakpointhook(...)\n",
            "        breakpointhook(*args, **kws)\n",
            "        \n",
            "        This hook function is called by built-in breakpoint().\n",
            "    \n",
            "    __displayhook__ = displayhook(object, /)\n",
            "        Print an object to sys.stdout and also save it in builtins._\n",
            "    \n",
            "    __excepthook__ = excepthook(exctype, value, traceback, /)\n",
            "        Handle an exception by displaying it with a traceback on sys.stderr.\n",
            "    \n",
            "    __unraisablehook__ = unraisablehook(unraisable, /)\n",
            "        Handle an unraisable exception.\n",
            "        \n",
            "        The unraisable argument has the following attributes:\n",
            "        \n",
            "        * exc_type: Exception type.\n",
            "        * exc_value: Exception value, can be None.\n",
            "        * exc_traceback: Exception traceback, can be None.\n",
            "        * err_msg: Error message, can be None.\n",
            "        * object: Object causing the exception, can be None.\n",
            "    \n",
            "    addaudithook(hook)\n",
            "        Adds a new audit hook callback.\n",
            "    \n",
            "    audit(...)\n",
            "        audit(event, *args)\n",
            "        \n",
            "        Passes the event to any audit hooks that are attached.\n",
            "    \n",
            "    breakpointhook(...)\n",
            "        breakpointhook(*args, **kws)\n",
            "        \n",
            "        This hook function is called by built-in breakpoint().\n",
            "    \n",
            "    call_tracing(func, args, /)\n",
            "        Call func(*args), while tracing is enabled.\n",
            "        \n",
            "        The tracing state is saved, and restored afterwards.  This is intended\n",
            "        to be called from a debugger from a checkpoint, to recursively debug\n",
            "        some other code.\n",
            "    \n",
            "    exc_info()\n",
            "        Return current exception information: (type, value, traceback).\n",
            "        \n",
            "        Return information about the most recent exception caught by an except\n",
            "        clause in the current stack frame or in an older stack frame.\n",
            "    \n",
            "    exit(status=None, /)\n",
            "        Exit the interpreter by raising SystemExit(status).\n",
            "        \n",
            "        If the status is omitted or None, it defaults to zero (i.e., success).\n",
            "        If the status is an integer, it will be used as the system exit status.\n",
            "        If it is another kind of object, it will be printed and the system\n",
            "        exit status will be one (i.e., failure).\n",
            "    \n",
            "    get_asyncgen_hooks()\n",
            "        Return the installed asynchronous generators hooks.\n",
            "        \n",
            "        This returns a namedtuple of the form (firstiter, finalizer).\n",
            "    \n",
            "    get_coroutine_origin_tracking_depth()\n",
            "        Check status of origin tracking for coroutine objects in this thread.\n",
            "    \n",
            "    get_int_max_str_digits()\n",
            "        Return the maximum string digits limit for non-binary int<->str conversions.\n",
            "    \n",
            "    getallocatedblocks()\n",
            "        Return the number of memory blocks currently allocated.\n",
            "    \n",
            "    getdefaultencoding()\n",
            "        Return the current default encoding used by the Unicode implementation.\n",
            "    \n",
            "    getdlopenflags()\n",
            "        Return the current value of the flags that are used for dlopen calls.\n",
            "        \n",
            "        The flag constants are defined in the os module.\n",
            "    \n",
            "    getfilesystemencodeerrors()\n",
            "        Return the error mode used Unicode to OS filename conversion.\n",
            "    \n",
            "    getfilesystemencoding()\n",
            "        Return the encoding used to convert Unicode filenames to OS filenames.\n",
            "    \n",
            "    getprofile()\n",
            "        Return the profiling function set with sys.setprofile.\n",
            "        \n",
            "        See the profiler chapter in the library manual.\n",
            "    \n",
            "    getrecursionlimit()\n",
            "        Return the current value of the recursion limit.\n",
            "        \n",
            "        The recursion limit is the maximum depth of the Python interpreter\n",
            "        stack.  This limit prevents infinite recursion from causing an overflow\n",
            "        of the C stack and crashing Python.\n",
            "    \n",
            "    getrefcount(object, /)\n",
            "        Return the reference count of object.\n",
            "        \n",
            "        The count returned is generally one higher than you might expect,\n",
            "        because it includes the (temporary) reference as an argument to\n",
            "        getrefcount().\n",
            "    \n",
            "    getsizeof(...)\n",
            "        getsizeof(object [, default]) -> int\n",
            "        \n",
            "        Return the size of object in bytes.\n",
            "    \n",
            "    getswitchinterval()\n",
            "        Return the current thread switch interval; see sys.setswitchinterval().\n",
            "    \n",
            "    gettrace()\n",
            "        Return the global debug tracing function set with sys.settrace.\n",
            "        \n",
            "        See the debugger chapter in the library manual.\n",
            "    \n",
            "    intern(string, /)\n",
            "        ``Intern'' the given string.\n",
            "        \n",
            "        This enters the string in the (global) table of interned strings whose\n",
            "        purpose is to speed up dictionary lookups. Return the string itself or\n",
            "        the previously interned string object with the same value.\n",
            "    \n",
            "    is_finalizing()\n",
            "        Return True if Python is exiting.\n",
            "    \n",
            "    set_asyncgen_hooks(...)\n",
            "        set_asyncgen_hooks(* [, firstiter] [, finalizer])\n",
            "        \n",
            "        Set a finalizer for async generators objects.\n",
            "    \n",
            "    set_coroutine_origin_tracking_depth(depth)\n",
            "        Enable or disable origin tracking for coroutine objects in this thread.\n",
            "        \n",
            "        Coroutine objects will track 'depth' frames of traceback information\n",
            "        about where they came from, available in their cr_origin attribute.\n",
            "        \n",
            "        Set a depth of 0 to disable.\n",
            "    \n",
            "    set_int_max_str_digits(maxdigits)\n",
            "        Set the maximum string digits limit for non-binary int<->str conversions.\n",
            "    \n",
            "    setdlopenflags(flags, /)\n",
            "        Set the flags used by the interpreter for dlopen calls.\n",
            "        \n",
            "        This is used, for example, when the interpreter loads extension\n",
            "        modules. Among other things, this will enable a lazy resolving of\n",
            "        symbols when importing a module, if called as sys.setdlopenflags(0).\n",
            "        To share symbols across extension modules, call as\n",
            "        sys.setdlopenflags(os.RTLD_GLOBAL).  Symbolic names for the flag\n",
            "        modules can be found in the os module (RTLD_xxx constants, e.g.\n",
            "        os.RTLD_LAZY).\n",
            "    \n",
            "    setprofile(...)\n",
            "        setprofile(function)\n",
            "        \n",
            "        Set the profiling function.  It will be called on each function call\n",
            "        and return.  See the profiler chapter in the library manual.\n",
            "    \n",
            "    setrecursionlimit(limit, /)\n",
            "        Set the maximum depth of the Python interpreter stack to n.\n",
            "        \n",
            "        This limit prevents infinite recursion from causing an overflow of the C\n",
            "        stack and crashing Python.  The highest possible limit is platform-\n",
            "        dependent.\n",
            "    \n",
            "    setswitchinterval(interval, /)\n",
            "        Set the ideal thread switching delay inside the Python interpreter.\n",
            "        \n",
            "        The actual frequency of switching threads can be lower if the\n",
            "        interpreter executes long sequences of uninterruptible code\n",
            "        (this is implementation-specific and workload-dependent).\n",
            "        \n",
            "        The parameter must represent the desired switching delay in seconds\n",
            "        A typical value is 0.005 (5 milliseconds).\n",
            "    \n",
            "    unraisablehook(unraisable, /)\n",
            "        Handle an unraisable exception.\n",
            "        \n",
            "        The unraisable argument has the following attributes:\n",
            "        \n",
            "        * exc_type: Exception type.\n",
            "        * exc_value: Exception value, can be None.\n",
            "        * exc_traceback: Exception traceback, can be None.\n",
            "        * err_msg: Error message, can be None.\n",
            "        * object: Object causing the exception, can be None.\n",
            "\n",
            "DATA\n",
            "    __stderr__ = <_io.TextIOWrapper name='<stderr>' mode='w' encoding='utf...\n",
            "    __stdin__ = <_io.TextIOWrapper name='<stdin>' mode='r' encoding='utf-8...\n",
            "    __stdout__ = <_io.TextIOWrapper name='<stdout>' mode='w' encoding='utf...\n",
            "    abiflags = ''\n",
            "    api_version = 1013\n",
            "    argv = ['/usr/local/lib/python3.10/dist-packages/colab_kernel_launcher...\n",
            "    base_exec_prefix = '/usr'\n",
            "    base_prefix = '/usr'\n",
            "    builtin_module_names = ('_abc', '_ast', '_bisect', '_blake2', '_codecs...\n",
            "    byteorder = 'little'\n",
            "    copyright = 'Copyright (c) 2001-2023 Python Software Foundati...ematis...\n",
            "    displayhook = <ipykernel.displayhook.ZMQShellDisplayHook object>\n",
            "    dont_write_bytecode = False\n",
            "    exec_prefix = '/usr'\n",
            "    executable = '/usr/bin/python3'\n",
            "    flags = sys.flags(debug=0, inspect=0, interactive=0, opt..., warn_defa...\n",
            "    float_info = sys.float_info(max=1.7976931348623157e+308, max_...epsilo...\n",
            "    float_repr_style = 'short'\n",
            "    hash_info = sys.hash_info(width=64, modulus=2305843009213693...iphash2...\n",
            "    hexversion = 50990320\n",
            "    implementation = namespace(name='cpython', cache_tag='cpython-310...xv...\n",
            "    int_info = sys.int_info(bits_per_digit=30, sizeof_digit=4, ..._str_dig...\n",
            "    last_value = AttributeError(\"module 'sys' has no attribute 'winver'\")\n",
            "    maxsize = 9223372036854775807\n",
            "    maxunicode = 1114111\n",
            "    meta_path = [<google.colab._import_hooks._client_info.APICoreClientInf...\n",
            "    modules = {'IPython': <module 'IPython' from '/usr/local/lib/python3.1...\n",
            "    orig_argv = ['/usr/bin/python3', '-m', 'colab_kernel_launcher', '-f', ...\n",
            "    path = ['/content', '/env/python', '/usr/lib/python310.zip', '/usr/lib...\n",
            "    path_hooks = [<class 'zipimport.zipimporter'>, <function FileFinder.pa...\n",
            "    path_importer_cache = {'': FileFinder('/content/.'), '/content': FileF...\n",
            "    platform = 'linux'\n",
            "    platlibdir = 'lib'\n",
            "    prefix = '/usr'\n",
            "    ps1 = 'In : '\n",
            "    ps2 = '...: '\n",
            "    ps3 = 'Out: '\n",
            "    pycache_prefix = None\n",
            "    stderr = <ipykernel.iostream.OutStream object>\n",
            "    stdin = <_io.TextIOWrapper name='<stdin>' mode='r' encoding='utf-8'>\n",
            "    stdlib_module_names = frozenset({'__future__', '_abc', '_aix_support',...\n",
            "    stdout = <ipykernel.iostream.OutStream object>\n",
            "    thread_info = sys.thread_info(name='pthread', lock='semaphore', versio...\n",
            "    version = '3.10.12 (main, Nov 20 2023, 15:14:05) [GCC 11.4.0]'\n",
            "    version_info = sys.version_info(major=3, minor=10, micro=12, releasele...\n",
            "    warnoptions = ['ignore:::pip._internal.cli.base_command']\n",
            "\n",
            "FILE\n",
            "    (built-in)\n",
            "\n",
            "\n"
          ]
        }
      ]
    },
    {
      "cell_type": "code",
      "source": [
        "# String\n",
        "print(\"Hello, World!\")\n",
        "# Integer\n",
        "print(12)\n",
        "# Float\n",
        "print(3.14)\n",
        "# Boolean\n",
        "print(True)\n",
        "print(False)\n",
        "print(bool(1)) # Output = True\n",
        "print(bool(0)) # Output = False\n"
      ],
      "metadata": {
        "colab": {
          "base_uri": "https://localhost:8080/"
        },
        "id": "buI_Qhw6Kh1d",
        "outputId": "81fd4df8-38e1-4eb1-ea07-60fbd9fc8cc0"
      },
      "execution_count": 13,
      "outputs": [
        {
          "output_type": "stream",
          "name": "stdout",
          "text": [
            "Hello, World!\n",
            "12\n",
            "3.14\n",
            "True\n",
            "False\n",
            "True\n",
            "False\n"
          ]
        }
      ]
    },
    {
      "cell_type": "code",
      "source": [
        "# String\n",
        "print(type('Hello, World!'))\n",
        "# Integer\n",
        "print(type(15))\n",
        "print(type(-24))\n",
        "print(type(0))\n",
        "print(type(1))\n",
        "# Float\n",
        "print(type(3.14))\n",
        "print(type(0.5))\n",
        "print(type(1.0))\n",
        "print(type(-5.0))\n",
        "# Boolean\n",
        "print(type(True))\n",
        "print(type(False))"
      ],
      "metadata": {
        "colab": {
          "base_uri": "https://localhost:8080/"
        },
        "id": "X1kK5E-gK1TT",
        "outputId": "db26ec36-f53d-4f00-9b87-c301475d8a74"
      },
      "execution_count": 15,
      "outputs": [
        {
          "output_type": "stream",
          "name": "stdout",
          "text": [
            "<class 'str'>\n",
            "<class 'int'>\n",
            "<class 'int'>\n",
            "<class 'int'>\n",
            "<class 'int'>\n",
            "<class 'float'>\n",
            "<class 'float'>\n",
            "<class 'float'>\n",
            "<class 'float'>\n",
            "<class 'bool'>\n",
            "<class 'bool'>\n"
          ]
        }
      ]
    },
    {
      "cell_type": "code",
      "source": [
        "# to obtain the information about 'interger' and 'float'\n",
        "print(sys.int_info)\n",
        "print()\n",
        "# to add a space between two outputs, use 'print()' function\n",
        "print(sys.float_info)"
      ],
      "metadata": {
        "colab": {
          "base_uri": "https://localhost:8080/"
        },
        "id": "lYq4RVOJLVtB",
        "outputId": "c3f6c350-db2f-4cf3-adc6-d2b19e0d23f0"
      },
      "execution_count": 16,
      "outputs": [
        {
          "output_type": "stream",
          "name": "stdout",
          "text": [
            "sys.int_info(bits_per_digit=30, sizeof_digit=4, default_max_str_digits=4300, str_digits_check_threshold=640)\n",
            "\n",
            "sys.float_info(max=1.7976931348623157e+308, max_exp=1024, max_10_exp=308, min=2.2250738585072014e-308, min_exp=-1021, min_10_exp=-307, dig=15, mant_dig=53, epsilon=2.220446049250313e-16, radix=2, rounds=1)\n"
          ]
        }
      ]
    },
    {
      "cell_type": "code",
      "source": [
        "# Let's convert the integer number 6 to a string and a float\n",
        "number = 6\n",
        "print(str(number))\n",
        "print(float(number))\n",
        "print(type(number))\n",
        "print(type(str(number)))\n",
        "print(type(float(number)))\n",
        "str(number)"
      ],
      "metadata": {
        "colab": {
          "base_uri": "https://localhost:8080/",
          "height": 125
        },
        "id": "xkn5-rwFLyno",
        "outputId": "eb07cc7b-d0a5-4005-ec42-236d6e858149"
      },
      "execution_count": 17,
      "outputs": [
        {
          "output_type": "stream",
          "name": "stdout",
          "text": [
            "6\n",
            "6.0\n",
            "<class 'int'>\n",
            "<class 'str'>\n",
            "<class 'float'>\n"
          ]
        },
        {
          "output_type": "execute_result",
          "data": {
            "text/plain": [
              "'6'"
            ],
            "application/vnd.google.colaboratory.intrinsic+json": {
              "type": "string"
            }
          },
          "metadata": {},
          "execution_count": 17
        }
      ]
    },
    {
      "cell_type": "code",
      "source": [
        "# Let's conver the float number 3.14 to a string and an integer\n",
        "number = 3.14\n",
        "print(str(number))\n",
        "print(int(number))\n",
        "print(type(number))\n",
        "print(type(str(number)))\n",
        "print(type(int(number)))\n",
        "str(number)"
      ],
      "metadata": {
        "colab": {
          "base_uri": "https://localhost:8080/",
          "height": 125
        },
        "id": "65RY3E00Mr0x",
        "outputId": "a93f06c2-7f98-46ba-c27e-a2ea8e158152"
      },
      "execution_count": 18,
      "outputs": [
        {
          "output_type": "stream",
          "name": "stdout",
          "text": [
            "3.14\n",
            "3\n",
            "<class 'float'>\n",
            "<class 'str'>\n",
            "<class 'int'>\n"
          ]
        },
        {
          "output_type": "execute_result",
          "data": {
            "text/plain": [
              "'3.14'"
            ],
            "application/vnd.google.colaboratory.intrinsic+json": {
              "type": "string"
            }
          },
          "metadata": {},
          "execution_count": 18
        }
      ]
    },
    {
      "cell_type": "code",
      "source": [
        "# Let's convert the booleans to an integer, a float, and a string\n",
        "bool_1 = True\n",
        "bool_2 = False\n",
        "print(int(bool_1))\n",
        "print(int(bool_2))\n",
        "print(float(bool_1))\n",
        "print(float(bool_2))\n",
        "print(str(bool_1))\n",
        "print(str(bool_2))\n",
        "print(bool(1))\n",
        "print(bool(0))"
      ],
      "metadata": {
        "colab": {
          "base_uri": "https://localhost:8080/"
        },
        "id": "UU71XiRpNM3V",
        "outputId": "78965b5f-8015-4745-ceea-7b36bbdcbfd0"
      },
      "execution_count": 19,
      "outputs": [
        {
          "output_type": "stream",
          "name": "stdout",
          "text": [
            "1\n",
            "0\n",
            "1.0\n",
            "0.0\n",
            "True\n",
            "False\n",
            "True\n",
            "False\n"
          ]
        }
      ]
    },
    {
      "cell_type": "code",
      "source": [
        "# Let's find the data types of 9/3 and 9//4\n",
        "print(9/3)\n",
        "print(9//4)\n",
        "print(type(9/3))\n",
        "print(type(9//4))"
      ],
      "metadata": {
        "colab": {
          "base_uri": "https://localhost:8080/"
        },
        "id": "d8bX_zTENeLr",
        "outputId": "6f27d180-5747-4d12-a48d-5086cda2da9c"
      },
      "execution_count": 20,
      "outputs": [
        {
          "output_type": "stream",
          "name": "stdout",
          "text": [
            "3.0\n",
            "2\n",
            "<class 'float'>\n",
            "<class 'int'>\n"
          ]
        }
      ]
    },
    {
      "cell_type": "code",
      "source": [
        "# Addition\n",
        "x = 56+65+89+45+78.5+98.2\n",
        "print(x)\n",
        "print(type(x))"
      ],
      "metadata": {
        "colab": {
          "base_uri": "https://localhost:8080/"
        },
        "id": "dZ58sBDxNu2f",
        "outputId": "c815bae9-f934-4eb7-f437-a093587f2593"
      },
      "execution_count": 21,
      "outputs": [
        {
          "output_type": "stream",
          "name": "stdout",
          "text": [
            "431.7\n",
            "<class 'float'>\n"
          ]
        }
      ]
    },
    {
      "cell_type": "code",
      "source": [
        "# Substraction\n",
        "x = 85-52-21-8\n",
        "print(x)\n",
        "print(type(x))"
      ],
      "metadata": {
        "colab": {
          "base_uri": "https://localhost:8080/"
        },
        "id": "wCzsY4OmN1Tg",
        "outputId": "c3057fba-f369-4c42-d602-2eb7e10423ad"
      },
      "execution_count": 1,
      "outputs": [
        {
          "output_type": "stream",
          "name": "stdout",
          "text": [
            "4\n",
            "<class 'int'>\n"
          ]
        }
      ]
    },
    {
      "cell_type": "code",
      "source": [
        "# Multiplication\n",
        "x = 8*74\n",
        "print(x)\n",
        "print(type(x))"
      ],
      "metadata": {
        "colab": {
          "base_uri": "https://localhost:8080/"
        },
        "id": "j3N1XG_QN-4z",
        "outputId": "3281c84d-3380-499d-c9de-68eda663d418"
      },
      "execution_count": 2,
      "outputs": [
        {
          "output_type": "stream",
          "name": "stdout",
          "text": [
            "592\n",
            "<class 'int'>\n"
          ]
        }
      ]
    },
    {
      "cell_type": "code",
      "source": [
        "# Division\n",
        "x = 125/24\n",
        "print(x)\n",
        "print(type(x))"
      ],
      "metadata": {
        "colab": {
          "base_uri": "https://localhost:8080/"
        },
        "id": "o5W7rcdROJXX",
        "outputId": "9203f493-b9bc-4036-8cf5-25fe555694f5"
      },
      "execution_count": 3,
      "outputs": [
        {
          "output_type": "stream",
          "name": "stdout",
          "text": [
            "5.208333333333333\n",
            "<class 'float'>\n"
          ]
        }
      ]
    },
    {
      "cell_type": "code",
      "source": [
        "# Floor division\n",
        "x = 125//24\n",
        "print(x)\n",
        "print(type(x))"
      ],
      "metadata": {
        "colab": {
          "base_uri": "https://localhost:8080/"
        },
        "id": "Qy2wxLP3OOfd",
        "outputId": "6cee40cd-f27e-400f-8341-e542ddcf123e"
      },
      "execution_count": 4,
      "outputs": [
        {
          "output_type": "stream",
          "name": "stdout",
          "text": [
            "5\n",
            "<class 'int'>\n"
          ]
        }
      ]
    },
    {
      "cell_type": "code",
      "source": [
        "# Modulus\n",
        "x = 125%24\n",
        "print(x)\n",
        "print(type(x))"
      ],
      "metadata": {
        "colab": {
          "base_uri": "https://localhost:8080/"
        },
        "id": "4xYAGZ4wOUG0",
        "outputId": "4a8fcbc4-a166-4a7f-cc94-dd4911f8396c"
      },
      "execution_count": 5,
      "outputs": [
        {
          "output_type": "stream",
          "name": "stdout",
          "text": [
            "5\n",
            "<class 'int'>\n"
          ]
        }
      ]
    },
    {
      "cell_type": "code",
      "source": [
        "# Exponentiation\n",
        "x=2**3\n",
        "print(x)\n",
        "print(type(x))"
      ],
      "metadata": {
        "colab": {
          "base_uri": "https://localhost:8080/"
        },
        "id": "4xKIj6aEOaLI",
        "outputId": "41f37f79-3ae1-4f56-d1b3-768d80ec3062"
      },
      "execution_count": 6,
      "outputs": [
        {
          "output_type": "stream",
          "name": "stdout",
          "text": [
            "8\n",
            "<class 'int'>\n"
          ]
        }
      ]
    },
    {
      "cell_type": "code",
      "source": [
        "# An example: Let's calculate how many minutes there are in 20 hours?\n",
        "one_hour = 60 # 60 minutes\n",
        "hour = 20\n",
        "minutes = one_hour*hour\n",
        "print(minutes)\n",
        "print(type(minutes))\n",
        "# An example: Let's calculate how many hours there are in 348 minutes?\n",
        "minutes = 348\n",
        "one_hour = 60\n",
        "hours = 348/60\n",
        "print(hours)\n",
        "print(type(hours))\n"
      ],
      "metadata": {
        "colab": {
          "base_uri": "https://localhost:8080/"
        },
        "id": "ibs_x7-POh4V",
        "outputId": "110b8d78-3e0c-4136-e616-a565a453ff00"
      },
      "execution_count": 10,
      "outputs": [
        {
          "output_type": "stream",
          "name": "stdout",
          "text": [
            "1200\n",
            "<class 'int'>\n",
            "5.8\n",
            "<class 'float'>\n"
          ]
        }
      ]
    },
    {
      "cell_type": "code",
      "source": [
        "# Mathematica expression\n",
        "x = 45+3*89\n",
        "y = (45+3)*89\n",
        "print(x)\n",
        "print(y)\n",
        "print(x+y)\n",
        "print(x-y)\n",
        "print(x*y)\n",
        "print(x/y)\n",
        "#print(x**y)\n",
        "print(x//y)\n",
        "print(x%y)"
      ],
      "metadata": {
        "colab": {
          "base_uri": "https://localhost:8080/"
        },
        "id": "fe1VbSa8O81a",
        "outputId": "3aa69f76-9175-4e98-f902-a323e1df224e"
      },
      "execution_count": 13,
      "outputs": [
        {
          "output_type": "stream",
          "name": "stdout",
          "text": [
            "312\n",
            "4272\n",
            "4584\n",
            "-3960\n",
            "1332864\n",
            "0.07303370786516854\n",
            "0\n",
            "312\n"
          ]
        }
      ]
    },
    {
      "cell_type": "code",
      "source": [
        "# Store the value 89 into the variabe 'number'\n",
        "number = 90\n",
        "print(number)\n",
        "print(type(number))"
      ],
      "metadata": {
        "colab": {
          "base_uri": "https://localhost:8080/"
        },
        "id": "P4jPuaj8PnrJ",
        "outputId": "57d03448-9506-4385-df15-14acb19260bf"
      },
      "execution_count": 14,
      "outputs": [
        {
          "output_type": "stream",
          "name": "stdout",
          "text": [
            "90\n",
            "<class 'int'>\n"
          ]
        }
      ]
    },
    {
      "cell_type": "markdown",
      "source": [
        "**STRING**"
      ],
      "metadata": {
        "id": "TETj0pyn4uwi"
      }
    },
    {
      "cell_type": "code",
      "source": [
        "# Employ double quotation marks for describing a string\n",
        "\"Hello World!\""
      ],
      "metadata": {
        "colab": {
          "base_uri": "https://localhost:8080/",
          "height": 35
        },
        "id": "OOnkUCBx42Eg",
        "outputId": "e143aae4-3327-48ba-e579-a2294dfce4f7"
      },
      "execution_count": 15,
      "outputs": [
        {
          "output_type": "execute_result",
          "data": {
            "text/plain": [
              "'Hello World!'"
            ],
            "application/vnd.google.colaboratory.intrinsic+json": {
              "type": "string"
            }
          },
          "metadata": {},
          "execution_count": 15
        }
      ]
    },
    {
      "cell_type": "code",
      "source": [
        "# Employ single quotation marks for describing a string\n",
        "'Hello World!'"
      ],
      "metadata": {
        "colab": {
          "base_uri": "https://localhost:8080/",
          "height": 35
        },
        "id": "PgF54J_d5DkC",
        "outputId": "eb50ef83-4391-418d-eadd-4ba36ee2ea88"
      },
      "execution_count": 16,
      "outputs": [
        {
          "output_type": "execute_result",
          "data": {
            "text/plain": [
              "'Hello World!'"
            ],
            "application/vnd.google.colaboratory.intrinsic+json": {
              "type": "string"
            }
          },
          "metadata": {},
          "execution_count": 16
        }
      ]
    },
    {
      "cell_type": "code",
      "source": [
        "# Digitals and spaces in a string\n",
        "'3 6 9 2 6 8'"
      ],
      "metadata": {
        "colab": {
          "base_uri": "https://localhost:8080/",
          "height": 35
        },
        "id": "c8oMUBTc5Lq0",
        "outputId": "2b4e680e-5607-4c79-95fd-c6c65f714079"
      },
      "execution_count": 17,
      "outputs": [
        {
          "output_type": "execute_result",
          "data": {
            "text/plain": [
              "'3 6 9 2 6 8'"
            ],
            "application/vnd.google.colaboratory.intrinsic+json": {
              "type": "string"
            }
          },
          "metadata": {},
          "execution_count": 17
        }
      ]
    },
    {
      "cell_type": "code",
      "source": [
        "# Specific characters in a string\n",
        "'@#5_]*$%^&'"
      ],
      "metadata": {
        "colab": {
          "base_uri": "https://localhost:8080/",
          "height": 35
        },
        "id": "6qPpGlrW5Py6",
        "outputId": "2729f8c1-2623-404e-90cc-3aac45bad775"
      },
      "execution_count": 18,
      "outputs": [
        {
          "output_type": "execute_result",
          "data": {
            "text/plain": [
              "'@#5_]*$%^&'"
            ],
            "application/vnd.google.colaboratory.intrinsic+json": {
              "type": "string"
            }
          },
          "metadata": {},
          "execution_count": 18
        }
      ]
    },
    {
      "cell_type": "code",
      "source": [
        "# printing a string\n",
        "print('Hello World!')"
      ],
      "metadata": {
        "colab": {
          "base_uri": "https://localhost:8080/"
        },
        "id": "F1TCMJ5K5XDb",
        "outputId": "4b989152-a2fc-4b18-d56b-c942a5ba6824"
      },
      "execution_count": 19,
      "outputs": [
        {
          "output_type": "stream",
          "name": "stdout",
          "text": [
            "Hello World!\n"
          ]
        }
      ]
    },
    {
      "cell_type": "code",
      "source": [
        "# Assigning a string to a variable 'message'\n",
        "message = 'Hello World!'\n",
        "print(message)\n",
        "message"
      ],
      "metadata": {
        "colab": {
          "base_uri": "https://localhost:8080/",
          "height": 53
        },
        "id": "xrPsuibj5jOn",
        "outputId": "c3599a8d-d39e-426e-a41e-52a56b4e0d1e"
      },
      "execution_count": 21,
      "outputs": [
        {
          "output_type": "stream",
          "name": "stdout",
          "text": [
            "Hello World!\n"
          ]
        },
        {
          "output_type": "execute_result",
          "data": {
            "text/plain": [
              "'Hello World!'"
            ],
            "application/vnd.google.colaboratory.intrinsic+json": {
              "type": "string"
            }
          },
          "metadata": {},
          "execution_count": 21
        }
      ]
    },
    {
      "cell_type": "markdown",
      "source": [
        "Indexing of a string"
      ],
      "metadata": {
        "id": "qnrrRutJ-sIc"
      }
    },
    {
      "cell_type": "code",
      "source": [],
      "metadata": {
        "id": "3yRddNVS-wnM"
      },
      "execution_count": null,
      "outputs": []
    },
    {
      "cell_type": "code",
      "source": [
        "# printing the first element in a string\n",
        "message = 'Hello World!'\n",
        "print(message[0])"
      ],
      "metadata": {
        "colab": {
          "base_uri": "https://localhost:8080/"
        },
        "id": "zQBMDuiL6s4W",
        "outputId": "5bb9a6b1-2da9-45d3-982e-942eeb5d7d6f"
      },
      "execution_count": 22,
      "outputs": [
        {
          "output_type": "stream",
          "name": "stdout",
          "text": [
            "H\n"
          ]
        }
      ]
    },
    {
      "cell_type": "code",
      "source": [
        "# Printing the element on index 8 in a string\n",
        "print(message[8])"
      ],
      "metadata": {
        "colab": {
          "base_uri": "https://localhost:8080/"
        },
        "id": "WG5dlHsn7XT7",
        "outputId": "b7d522a4-b3a4-49e4-f1c8-5e4a57d71675"
      },
      "execution_count": 23,
      "outputs": [
        {
          "output_type": "stream",
          "name": "stdout",
          "text": [
            "r\n"
          ]
        }
      ]
    },
    {
      "cell_type": "code",
      "source": [
        "# lenght of a string includign spaces\n",
        "len(message)"
      ],
      "metadata": {
        "colab": {
          "base_uri": "https://localhost:8080/"
        },
        "id": "Jeqe2ImV7bWR",
        "outputId": "0fc4f7f5-de26-41b4-abee-8cc703f22b60"
      },
      "execution_count": 24,
      "outputs": [
        {
          "output_type": "execute_result",
          "data": {
            "text/plain": [
              "12"
            ]
          },
          "metadata": {},
          "execution_count": 24
        }
      ]
    },
    {
      "cell_type": "code",
      "source": [
        "# Printing the last element in a string\n",
        "print(message[11])\n",
        "# Another comment writing type is as follows using triple quotes.\n",
        "\"\"\"\n",
        "Although the length of the string is 12, since the indexing in Python starts with 0, the number of the last element is therefore 11.\n",
        "\"\"\""
      ],
      "metadata": {
        "colab": {
          "base_uri": "https://localhost:8080/",
          "height": 53
        },
        "id": "5nRkwEZC9_jv",
        "outputId": "34cb253a-8a41-4575-d3f3-3f63ab8a608f"
      },
      "execution_count": 25,
      "outputs": [
        {
          "output_type": "stream",
          "name": "stdout",
          "text": [
            "!\n"
          ]
        },
        {
          "output_type": "execute_result",
          "data": {
            "text/plain": [
              "'\\nAlthough the length of the string is 12, since the indexing in Python starts with 0, the number of the last element is therefore 11.\\n'"
            ],
            "application/vnd.google.colaboratory.intrinsic+json": {
              "type": "string"
            }
          },
          "metadata": {},
          "execution_count": 25
        }
      ]
    },
    {
      "cell_type": "markdown",
      "source": [
        "**Negative Indexing of a String**"
      ],
      "metadata": {
        "id": "v0IbRGIf-03n"
      }
    },
    {
      "cell_type": "code",
      "source": [
        "# printing the last element of a string\n",
        "message[-1]"
      ],
      "metadata": {
        "colab": {
          "base_uri": "https://localhost:8080/",
          "height": 35
        },
        "id": "GY1ma4Au_KbR",
        "outputId": "c180d465-279a-4e20-f97e-e6ab7ac69307"
      },
      "execution_count": 26,
      "outputs": [
        {
          "output_type": "execute_result",
          "data": {
            "text/plain": [
              "'!'"
            ],
            "application/vnd.google.colaboratory.intrinsic+json": {
              "type": "string"
            }
          },
          "metadata": {},
          "execution_count": 26
        }
      ]
    },
    {
      "cell_type": "code",
      "source": [
        "# printing the first element of a string\n",
        "message[-12]\n",
        "\"\"\"\n",
        "Since the negative indexing starts with -1, in this case, the negative index number of the first element is equal to -12.\n",
        "\"\"\""
      ],
      "metadata": {
        "colab": {
          "base_uri": "https://localhost:8080/",
          "height": 35
        },
        "id": "g3V5qaLZ_Xfv",
        "outputId": "470d6101-d645-4778-8b8f-f9f8338b0882"
      },
      "execution_count": 27,
      "outputs": [
        {
          "output_type": "execute_result",
          "data": {
            "text/plain": [
              "'\\nSince the negative indexing starts with -1, in this case, the negative index number of the first element is equal to -12.\\n'"
            ],
            "application/vnd.google.colaboratory.intrinsic+json": {
              "type": "string"
            }
          },
          "metadata": {},
          "execution_count": 27
        }
      ]
    },
    {
      "cell_type": "code",
      "source": [
        "print(len(message))\n",
        "len(message)"
      ],
      "metadata": {
        "colab": {
          "base_uri": "https://localhost:8080/"
        },
        "id": "cECJBctw_r9n",
        "outputId": "96673241-d40b-4c66-ca9e-0e78f68807e2"
      },
      "execution_count": 28,
      "outputs": [
        {
          "output_type": "stream",
          "name": "stdout",
          "text": [
            "12\n"
          ]
        },
        {
          "output_type": "execute_result",
          "data": {
            "text/plain": [
              "12"
            ]
          },
          "metadata": {},
          "execution_count": 28
        }
      ]
    },
    {
      "cell_type": "code",
      "source": [
        "len('Hello World!')"
      ],
      "metadata": {
        "colab": {
          "base_uri": "https://localhost:8080/"
        },
        "id": "GIaxzLPVADqj",
        "outputId": "8f2be7cd-c043-4423-99af-926c220b9d95"
      },
      "execution_count": 29,
      "outputs": [
        {
          "output_type": "execute_result",
          "data": {
            "text/plain": [
              "12"
            ]
          },
          "metadata": {},
          "execution_count": 29
        }
      ]
    },
    {
      "cell_type": "markdown",
      "source": [
        "Slicing of a String"
      ],
      "metadata": {
        "id": "lHFExx9rAKp6"
      }
    },
    {
      "cell_type": "code",
      "source": [
        "# Slicing on the variable 'message' with only index 0 to index 5\n",
        "message[0:5]\n"
      ],
      "metadata": {
        "id": "1mxuUUkxAOIG"
      },
      "execution_count": null,
      "outputs": []
    },
    {
      "cell_type": "code",
      "source": [
        "# Slicing on the variable 'message' with only index 6 to index 12\n",
        "message[6:12]"
      ],
      "metadata": {
        "colab": {
          "base_uri": "https://localhost:8080/",
          "height": 35
        },
        "id": "_wbTneJ6ATGj",
        "outputId": "86a299bb-3d22-45e7-f279-e41e030904da"
      },
      "execution_count": 30,
      "outputs": [
        {
          "output_type": "execute_result",
          "data": {
            "text/plain": [
              "'World!'"
            ],
            "application/vnd.google.colaboratory.intrinsic+json": {
              "type": "string"
            }
          },
          "metadata": {},
          "execution_count": 30
        }
      ]
    },
    {
      "cell_type": "markdown",
      "source": [
        "Striding in a String"
      ],
      "metadata": {
        "id": "Dg1s6Rj4AXfh"
      }
    },
    {
      "cell_type": "code",
      "source": [
        "# to select every second element in the variable 'message'\n",
        "message[::2]"
      ],
      "metadata": {
        "colab": {
          "base_uri": "https://localhost:8080/",
          "height": 35
        },
        "id": "OvVml_uxBfXg",
        "outputId": "30b2dfe6-2049-4ee2-b04f-2fad62b1691e"
      },
      "execution_count": 31,
      "outputs": [
        {
          "output_type": "execute_result",
          "data": {
            "text/plain": [
              "'HloWrd'"
            ],
            "application/vnd.google.colaboratory.intrinsic+json": {
              "type": "string"
            }
          },
          "metadata": {},
          "execution_count": 31
        }
      ]
    },
    {
      "cell_type": "code",
      "source": [
        "# corporation of slicing and striding\n",
        "# get every second element in range from index 0 to index 6\n",
        "message[0:6:2]"
      ],
      "metadata": {
        "colab": {
          "base_uri": "https://localhost:8080/",
          "height": 35
        },
        "id": "vx8HzZsSBkFl",
        "outputId": "74a3bdbd-8c4d-473e-c447-44224111f5b8"
      },
      "execution_count": 32,
      "outputs": [
        {
          "output_type": "execute_result",
          "data": {
            "text/plain": [
              "'Hlo'"
            ],
            "application/vnd.google.colaboratory.intrinsic+json": {
              "type": "string"
            }
          },
          "metadata": {},
          "execution_count": 32
        }
      ]
    },
    {
      "cell_type": "markdown",
      "source": [
        "Concatenate of String"
      ],
      "metadata": {
        "id": "0jqt2jFxB3ib"
      }
    },
    {
      "cell_type": "code",
      "source": [
        "message = 'Hello World!'\n",
        "question = ' How many people are living on the earth?'\n",
        "statement = message+question\n",
        "statement"
      ],
      "metadata": {
        "colab": {
          "base_uri": "https://localhost:8080/",
          "height": 35
        },
        "id": "5JFgxDRKB9ad",
        "outputId": "d4e9febd-80d7-446c-93e4-5e5a9a1571ef"
      },
      "execution_count": 33,
      "outputs": [
        {
          "output_type": "execute_result",
          "data": {
            "text/plain": [
              "'Hello World! How many people are living on the earth?'"
            ],
            "application/vnd.google.colaboratory.intrinsic+json": {
              "type": "string"
            }
          },
          "metadata": {},
          "execution_count": 33
        }
      ]
    },
    {
      "cell_type": "code",
      "source": [
        "# printing a string for 4 times\n",
        "4*\" Hello World!\""
      ],
      "metadata": {
        "colab": {
          "base_uri": "https://localhost:8080/",
          "height": 35
        },
        "id": "ZCzuWPJZCrL6",
        "outputId": "617aef60-831e-4c2e-d2f2-24b470249591"
      },
      "execution_count": 34,
      "outputs": [
        {
          "output_type": "execute_result",
          "data": {
            "text/plain": [
              "' Hello World! Hello World! Hello World! Hello World!'"
            ],
            "application/vnd.google.colaboratory.intrinsic+json": {
              "type": "string"
            }
          },
          "metadata": {},
          "execution_count": 34
        }
      ]
    },
    {
      "cell_type": "markdown",
      "source": [
        "Escape sequences"
      ],
      "metadata": {
        "id": "ITzNOPpjDA5B"
      }
    },
    {
      "cell_type": "code",
      "source": [
        "# New line escape sequence\n",
        "print('Hello World! \\nHow many people are living on the earth?')"
      ],
      "metadata": {
        "colab": {
          "base_uri": "https://localhost:8080/"
        },
        "id": "0XoDPGCyDBsT",
        "outputId": "1e934db3-15b9-4ad6-8d62-f73b574fbbb8"
      },
      "execution_count": 35,
      "outputs": [
        {
          "output_type": "stream",
          "name": "stdout",
          "text": [
            "Hello World! \n",
            "How many people are living on the earth?\n"
          ]
        }
      ]
    },
    {
      "cell_type": "code",
      "source": [
        "# Tab escape sequence\n",
        "print('Hello World! \\tHow many people are living on the earth?')"
      ],
      "metadata": {
        "colab": {
          "base_uri": "https://localhost:8080/"
        },
        "id": "sJyYR5CrDFy1",
        "outputId": "c6525f19-a4d9-4c06-abc4-ffcb676421c4"
      },
      "execution_count": 36,
      "outputs": [
        {
          "output_type": "stream",
          "name": "stdout",
          "text": [
            "Hello World! \tHow many people are living on the earth?\n"
          ]
        }
      ]
    },
    {
      "cell_type": "code",
      "source": [
        "# back slash in a string\n",
        "print('Hello World! \\\\ How many people are living on the earth?')\n",
        "# r will say python that a string will be show as a raw string\n",
        "print(r'Hello World! \\ How many people are living on the earth?')"
      ],
      "metadata": {
        "colab": {
          "base_uri": "https://localhost:8080/"
        },
        "id": "laEkl9YODOnn",
        "outputId": "e658be54-75c0-41bf-c64c-bc335408c402"
      },
      "execution_count": 37,
      "outputs": [
        {
          "output_type": "stream",
          "name": "stdout",
          "text": [
            "Hello World! \\ How many people are living on the earth?\n",
            "Hello World! \\ How many people are living on the earth?\n"
          ]
        }
      ]
    },
    {
      "cell_type": "markdown",
      "source": [
        "String operations"
      ],
      "metadata": {
        "id": "U11LV1sxDgJg"
      }
    },
    {
      "cell_type": "code",
      "source": [
        "message = 'hello python!'\n",
        "print('Before uppercase: ', message )\n",
        "\n",
        "# convert uppercase the elements in a string\n",
        "message_upper = message.upper()\n",
        "print('After uppercase: ', message_upper)\n",
        "\n",
        "# convert lowercase the elements in a string\n",
        "message_lower = message.lower()\n",
        "print('Again lowercase: ', message_lower)\n",
        "# convert first letter of string to uppercase\n",
        "message_title = message.title()\n",
        "print('The first element of the string is uppercase: ', message_title)"
      ],
      "metadata": {
        "colab": {
          "base_uri": "https://localhost:8080/"
        },
        "id": "ROfZx0dbDs1g",
        "outputId": "775b3e65-9e5f-499b-9694-1538ebceacc2"
      },
      "execution_count": 38,
      "outputs": [
        {
          "output_type": "stream",
          "name": "stdout",
          "text": [
            "Before uppercase:  hello python!\n",
            "After uppercase:  HELLO PYTHON!\n",
            "Again lowercase:  hello python!\n",
            "The first element of the string is uppercase:  Hello Python!\n"
          ]
        }
      ]
    },
    {
      "cell_type": "code",
      "source": [
        "# replace() method in a string\n",
        "message = 'Hello Python!'\n",
        "message_hi = message.replace('Hello', 'Hi')\n",
        "message_python = message.replace('Python', 'World')\n",
        "print(message_hi)\n",
        "print(message_python)"
      ],
      "metadata": {
        "colab": {
          "base_uri": "https://localhost:8080/"
        },
        "id": "IRSbeD7PEb7z",
        "outputId": "4b1ffcc9-71c6-4cef-ea5e-0e45d3404552"
      },
      "execution_count": 40,
      "outputs": [
        {
          "output_type": "stream",
          "name": "stdout",
          "text": [
            "Hi Python!\n",
            "Hello World!\n"
          ]
        }
      ]
    },
    {
      "cell_type": "code",
      "source": [
        "# find() method application in a string\n",
        "message = 'Hello World!'\n",
        "print(message.find('Wo'))\n",
        "# the output is the index number of the first element of the substring"
      ],
      "metadata": {
        "colab": {
          "base_uri": "https://localhost:8080/"
        },
        "id": "uR_j_KH9ExGx",
        "outputId": "de8d328c-db6a-4a79-a3f7-dcdfd0b990fe"
      },
      "execution_count": 41,
      "outputs": [
        {
          "output_type": "stream",
          "name": "stdout",
          "text": [
            "6\n"
          ]
        }
      ]
    },
    {
      "cell_type": "code",
      "source": [
        "# find() method application to obtain a substring in a string\n",
        "message.find('World!')"
      ],
      "metadata": {
        "colab": {
          "base_uri": "https://localhost:8080/"
        },
        "id": "VjN8CvR_E8-o",
        "outputId": "a8e6b52c-b123-40be-867b-2912951c53ab"
      },
      "execution_count": 42,
      "outputs": [
        {
          "output_type": "execute_result",
          "data": {
            "text/plain": [
              "6"
            ]
          },
          "metadata": {},
          "execution_count": 42
        }
      ]
    },
    {
      "cell_type": "code",
      "source": [
        "# if cannot find the substring in a string, the output is -1.\n",
        "message.find('cndsjnd')"
      ],
      "metadata": {
        "colab": {
          "base_uri": "https://localhost:8080/"
        },
        "id": "WTd2_SNuFCOm",
        "outputId": "8b76d1bd-e270-49fb-ed69-c1913cde32a1"
      },
      "execution_count": 43,
      "outputs": [
        {
          "output_type": "execute_result",
          "data": {
            "text/plain": [
              "-1"
            ]
          },
          "metadata": {},
          "execution_count": 43
        }
      ]
    },
    {
      "cell_type": "code",
      "source": [
        "text = 'Jean-Paul Sartre somewhere Nancy observed that we each of us make our own hell out of the people around us.'\n",
        "# find the first index of the substring 'Nancy'\n",
        "text.find('Nancy')"
      ],
      "metadata": {
        "colab": {
          "base_uri": "https://localhost:8080/"
        },
        "id": "2SnpcIEHFDP-",
        "outputId": "abb7c838-19be-4e48-e139-c03341e7050f"
      },
      "execution_count": 45,
      "outputs": [
        {
          "output_type": "execute_result",
          "data": {
            "text/plain": [
              "27"
            ]
          },
          "metadata": {},
          "execution_count": 45
        }
      ]
    },
    {
      "cell_type": "code",
      "source": [
        "# replace the substring 'Nancy' with 'Nancy Lier Cosgrove Mullis'\n",
        "text.replace('Nancy', 'Nancy Lier Cosgrove Mullis')"
      ],
      "metadata": {
        "colab": {
          "base_uri": "https://localhost:8080/",
          "height": 35
        },
        "id": "N7aZ2U36FSgR",
        "outputId": "4a65023d-3a56-4892-a727-f69ba2232f7b"
      },
      "execution_count": 46,
      "outputs": [
        {
          "output_type": "execute_result",
          "data": {
            "text/plain": [
              "'Jean-Paul Sartre somewhere Nancy Lier Cosgrove Mullis observed that we each of us make our own hell out of the people around us.'"
            ],
            "application/vnd.google.colaboratory.intrinsic+json": {
              "type": "string"
            }
          },
          "metadata": {},
          "execution_count": 46
        }
      ]
    },
    {
      "cell_type": "code",
      "source": [
        "# convet the text to lower case\n",
        "text.lower()"
      ],
      "metadata": {
        "colab": {
          "base_uri": "https://localhost:8080/",
          "height": 35
        },
        "id": "xw2G3xnNFg9R",
        "outputId": "58fd9de0-ab95-46f0-9b2f-2d373a92c9c6"
      },
      "execution_count": 47,
      "outputs": [
        {
          "output_type": "execute_result",
          "data": {
            "text/plain": [
              "'jean-paul sartre somewhere nancy observed that we each of us make our own hell out of the people around us.'"
            ],
            "application/vnd.google.colaboratory.intrinsic+json": {
              "type": "string"
            }
          },
          "metadata": {},
          "execution_count": 47
        }
      ]
    },
    {
      "cell_type": "code",
      "source": [
        "# convert the first letter of the text to capital letter\n",
        "text.capitalize()"
      ],
      "metadata": {
        "colab": {
          "base_uri": "https://localhost:8080/",
          "height": 35
        },
        "id": "ruLSc7fsFkIY",
        "outputId": "c0be0a63-b604-4a41-b840-3e07bb8b0bf9"
      },
      "execution_count": 48,
      "outputs": [
        {
          "output_type": "execute_result",
          "data": {
            "text/plain": [
              "'Jean-paul sartre somewhere nancy observed that we each of us make our own hell out of the people around us.'"
            ],
            "application/vnd.google.colaboratory.intrinsic+json": {
              "type": "string"
            }
          },
          "metadata": {},
          "execution_count": 48
        }
      ]
    },
    {
      "cell_type": "code",
      "source": [
        "# casefold() method returns a string where all the characters are in lower case\n",
        "text.casefold()"
      ],
      "metadata": {
        "colab": {
          "base_uri": "https://localhost:8080/",
          "height": 35
        },
        "id": "p4GViXKqFqWl",
        "outputId": "4d4fb477-ec54-49e2-e473-3a0dda55999e"
      },
      "execution_count": 49,
      "outputs": [
        {
          "output_type": "execute_result",
          "data": {
            "text/plain": [
              "'jean-paul sartre somewhere nancy observed that we each of us make our own hell out of the people around us.'"
            ],
            "application/vnd.google.colaboratory.intrinsic+json": {
              "type": "string"
            }
          },
          "metadata": {},
          "execution_count": 49
        }
      ]
    },
    {
      "cell_type": "code",
      "source": [
        "# center() method will center align the string, using a specified character (space is the default) as the fill character.\n",
        "message = 'Hallo Leute!'\n",
        "message.center(50, '-')"
      ],
      "metadata": {
        "colab": {
          "base_uri": "https://localhost:8080/",
          "height": 35
        },
        "id": "24_4qRtcFsEL",
        "outputId": "12539ace-bbc1-461c-c36e-e77957b20396"
      },
      "execution_count": 50,
      "outputs": [
        {
          "output_type": "execute_result",
          "data": {
            "text/plain": [
              "'-------------------Hallo Leute!-------------------'"
            ],
            "application/vnd.google.colaboratory.intrinsic+json": {
              "type": "string"
            }
          },
          "metadata": {},
          "execution_count": 50
        }
      ]
    },
    {
      "cell_type": "code",
      "source": [
        "# count() method returns the number of elements with the specified value\n",
        "text.count('and')"
      ],
      "metadata": {
        "colab": {
          "base_uri": "https://localhost:8080/"
        },
        "id": "RtWNfDkLFxTn",
        "outputId": "24e9e85f-f0b3-40e3-ad4a-d8c513bddfdc"
      },
      "execution_count": 51,
      "outputs": [
        {
          "output_type": "execute_result",
          "data": {
            "text/plain": [
              "0"
            ]
          },
          "metadata": {},
          "execution_count": 51
        }
      ]
    },
    {
      "cell_type": "code",
      "source": [
        "# format() method\n",
        "\"\"\"\n",
        "The format() method formats the specified value(s) and insert them inside the string's placeholder.\n",
        "The placeholder is defined using curly brackets: {}.\n",
        "\"\"\"\n",
        "\n",
        "txt = \"Hello {word}\"\n",
        "print(txt.format(word = 'World!'))\n",
        "\n",
        "message1 = 'Hi, My name is {} and I am {} years old.'\n",
        "print(message1.format('Bob', 36))\n",
        "\n",
        "message2 = 'Hi, My name is {name} and I am {number} years old.'\n",
        "print(message2.format(name ='Bob', number = 36))\n",
        "\n",
        "message3 = 'Hi, My name is {0} and I am {1} years old.'\n",
        "print(message3.format('Bob', 36))"
      ],
      "metadata": {
        "colab": {
          "base_uri": "https://localhost:8080/"
        },
        "id": "S2uyD-gTGBNV",
        "outputId": "4b617126-e1b6-4e38-d06a-2b444622f8e0"
      },
      "execution_count": 52,
      "outputs": [
        {
          "output_type": "stream",
          "name": "stdout",
          "text": [
            "Hello World!\n",
            "Hi, My name is Bob and I am 36 years old.\n",
            "Hi, My name is Bob and I am 36 years old.\n",
            "Hi, My name is Bob and I am 36 years old.\n"
          ]
        }
      ]
    }
  ]
}