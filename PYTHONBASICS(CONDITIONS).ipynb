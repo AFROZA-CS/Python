{
  "cells": [
    {
      "cell_type": "code",
      "execution_count": null,
      "metadata": {
        "colab": {
          "base_uri": "https://localhost:8080/"
        },
        "id": "8xuSeSc4CHWX",
        "outputId": "e146134e-e5fe-4335-e2c3-9105608aa157"
      },
      "outputs": [
        {
          "name": "stdout",
          "output_type": "stream",
          "text": [
            "True\n",
            "False\n"
          ]
        }
      ],
      "source": [
        "# Take a variable\n",
        "golden_ratio = 1.618\n",
        "\n",
        "# Condition less than\n",
        "print(golden_ratio<2) # The golden ratio is lower than 2, thus the output is True\n",
        "print(golden_ratio<1) # The golden ratio is greater than 1, thus the output is False"
      ]
    },
    {
      "cell_type": "code",
      "execution_count": null,
      "metadata": {
        "colab": {
          "base_uri": "https://localhost:8080/"
        },
        "id": "Py1k3MXnCdaD",
        "outputId": "5354021b-b802-4577-bebe-d4ef4bd9c013"
      },
      "outputs": [
        {
          "name": "stdout",
          "output_type": "stream",
          "text": [
            "True\n",
            "False\n",
            "True\n"
          ]
        }
      ],
      "source": [
        "# Take a variable\n",
        "golden_ratio = 1.618\n",
        "\n",
        "# Condition less than or equal to\n",
        "print(golden_ratio<=2) # The golden ratio is lower than 2, thus the condition is True.\n",
        "print(golden_ratio<=1) # The golden ratio is greater than 1, thus the condition is False.\n",
        "print(golden_ratio<=1.618) # The golden ratio is equal to 1.618, thus the condition is True."
      ]
    },
    {
      "cell_type": "code",
      "execution_count": 1,
      "metadata": {
        "colab": {
          "base_uri": "https://localhost:8080/"
        },
        "id": "rsyeZKArC1Jk",
        "outputId": "5403b36a-028a-409f-ee22-4a0253501e73"
      },
      "outputs": [
        {
          "output_type": "stream",
          "name": "stdout",
          "text": [
            "False\n",
            "True\n"
          ]
        }
      ],
      "source": [
        "# Take a variable\n",
        "golden_ratio = 1.618\n",
        "\n",
        "# Condition greater than\n",
        "print(golden_ratio>2) # The golden ratio is lower than 2, thus the condition is False.\n",
        "print(golden_ratio>1) # The golden ratio is greater than 1, thus the condition is True."
      ]
    },
    {
      "cell_type": "code",
      "source": [
        "# Take a variable\n",
        "golden_ratio = 1.618\n",
        "# Condition greater than or equal to\n",
        "print(golden_ratio>=2) # The golden ratio is not greater than 2, thus the condition is False.\n",
        "print(golden_ratio>=1) # The golden ratio is greater than 1, thus the condition is True.\n",
        "print(golden_ratio>=1.618) # The golden ratio is equal to 1.618, thus the condition is True."
      ],
      "metadata": {
        "colab": {
          "base_uri": "https://localhost:8080/"
        },
        "id": "Fo2r6vwNrpKZ",
        "outputId": "674dd274-1619-4bfb-f926-edf8a60c07c6"
      },
      "execution_count": 3,
      "outputs": [
        {
          "output_type": "stream",
          "name": "stdout",
          "text": [
            "False\n",
            "True\n",
            "True\n"
          ]
        }
      ]
    },
    {
      "cell_type": "code",
      "source": [
        "golden_ratio = 1.618\n",
        "\n",
        "# Condition equal to\n",
        "print(golden_ratio==2) # The golden ratio is not equal to 1.618, thus the condition is False.\n",
        "print(golden_ratio==1.618) # The golden ratio is equal to 1.618, thus the condition is True."
      ],
      "metadata": {
        "colab": {
          "base_uri": "https://localhost:8080/"
        },
        "id": "g0fVPGSYsiny",
        "outputId": "8c2caeb3-0e8e-4bb4-942e-5233434580ef"
      },
      "execution_count": 4,
      "outputs": [
        {
          "output_type": "stream",
          "name": "stdout",
          "text": [
            "False\n",
            "True\n"
          ]
        }
      ]
    },
    {
      "cell_type": "code",
      "source": [
        "# Take a variable\n",
        "golden_ratio = 1.618\n",
        "# Condition not equal to\n",
        "print(golden_ratio!=2) # The golden ratio is not equal to 1.618, thus the condition is True.\n",
        "print(golden_ratio!=1.618) # The golden ratio is equal to 1.618, thus the conditon is False."
      ],
      "metadata": {
        "colab": {
          "base_uri": "https://localhost:8080/"
        },
        "id": "PvgvoKZXs4I6",
        "outputId": "6628077a-42f7-40c4-a13e-3f568b58d87d"
      },
      "execution_count": 5,
      "outputs": [
        {
          "output_type": "stream",
          "name": "stdout",
          "text": [
            "True\n",
            "False\n"
          ]
        }
      ]
    },
    {
      "cell_type": "code",
      "source": [
        "\n",
        "# Compare strings\n",
        "print('Hello' == 'Python')\n",
        "print('Hello' != 'Python')\n",
        "print('Hello' <= 'Python')\n",
        "print('Hello' >= 'Python')\n",
        "print('Hello' < 'Python')\n",
        "print('Hello' > 'Python')\n",
        "print('B'>'A') # According to ASCII table, the values of A and B are equal 65 and 66, respectively.\n",
        "print('a'>'b') # According to ASCII table, the values of a and b are equal 97 and 98, respectively.\n",
        "print('CD'>'DC') # According to ASCII table, the value of C (67) is lower than that of D (68) 11\n",
        "# The values of uppercase and lowercase letters are different since python is case sensitive."
      ],
      "metadata": {
        "colab": {
          "base_uri": "https://localhost:8080/"
        },
        "id": "DO2w4o7-tVTA",
        "outputId": "823cc60b-7c21-4de5-8baa-8fdf20257b94"
      },
      "execution_count": 1,
      "outputs": [
        {
          "output_type": "stream",
          "name": "stdout",
          "text": [
            "False\n",
            "True\n",
            "True\n",
            "False\n",
            "True\n",
            "False\n",
            "True\n",
            "False\n",
            "False\n"
          ]
        }
      ]
    },
    {
      "cell_type": "code",
      "source": [
        "pi = 3.14\n",
        "golden_ratio = 1.618\n",
        "\n",
        "# This statement can be True or False.\n",
        "if pi > golden_ratio:\n",
        "\n",
        "   # If the conditions is True, the following statement will be printed.\n",
        "   print(f'The number pi {pi} is greater than the golden ratio {golden_ratio}.')\n",
        "\n",
        "# The following statement will be printed in each situtation.\n",
        "print('Done!')"
      ],
      "metadata": {
        "colab": {
          "base_uri": "https://localhost:8080/"
        },
        "id": "CjJ_mx0uwFQ6",
        "outputId": "2aac2051-4a85-4bb0-a956-ee3ef11c3aa0"
      },
      "execution_count": 4,
      "outputs": [
        {
          "output_type": "stream",
          "name": "stdout",
          "text": [
            "The number pi 3.14 is greater than the golden ratio 1.618.\n",
            "Done!\n"
          ]
        }
      ]
    },
    {
      "cell_type": "code",
      "source": [
        "if 2:\n",
        "  print('Hello, python!')"
      ],
      "metadata": {
        "colab": {
          "base_uri": "https://localhost:8080/"
        },
        "id": "__juaLNFw10R",
        "outputId": "4f3e2e4c-8a68-46ab-be6b-b1484a924536"
      },
      "execution_count": 6,
      "outputs": [
        {
          "output_type": "stream",
          "name": "stdout",
          "text": [
            "Hello, python!\n"
          ]
        }
      ]
    },
    {
      "cell_type": "code",
      "source": [
        "if True:\n",
        "  print('This is true.')"
      ],
      "metadata": {
        "colab": {
          "base_uri": "https://localhost:8080/"
        },
        "id": "SJW4CXS5w9Ph",
        "outputId": "e21fb72f-7ea4-4618-be99-899cbee0d335"
      },
      "execution_count": 7,
      "outputs": [
        {
          "output_type": "stream",
          "name": "stdout",
          "text": [
            "This is true.\n"
          ]
        }
      ]
    },
    {
      "cell_type": "code",
      "source": [
        "pi = 3.14\n",
        "golden_ratio = 1.618\n",
        "\n",
        "if pi < golden_ratio:\n",
        "  print(f'The number pi {pi} is greater than the golden ratio {golden_ratio}.')\n",
        "else:\n",
        "  print(f'The golden ratio {golden_ratio} is lower than the number pi {pi}.')\n",
        "print('Done!')"
      ],
      "metadata": {
        "colab": {
          "base_uri": "https://localhost:8080/"
        },
        "id": "VgIB2NzlxBm7",
        "outputId": "f8c2d042-7537-4b86-c1db-4c12c35ca423"
      },
      "execution_count": 8,
      "outputs": [
        {
          "output_type": "stream",
          "name": "stdout",
          "text": [
            "The golden ratio 1.618 is lower than the number pi 3.14.\n",
            "Done!\n"
          ]
        }
      ]
    },
    {
      "cell_type": "code",
      "source": [
        "age = 5\n",
        "if age > 6:\n",
        " print('You can go to primary school.' )\n",
        "elif age == 5:\n",
        " print('You should go to kindergarten.')\n",
        "else:\n",
        " print('You are a baby' )\n",
        "print('Done!')"
      ],
      "metadata": {
        "colab": {
          "base_uri": "https://localhost:8080/"
        },
        "id": "hdRttyQfxULx",
        "outputId": "edcfdb91-881c-4dad-9a36-a3d1db5bb216"
      },
      "execution_count": 9,
      "outputs": [
        {
          "output_type": "stream",
          "name": "stdout",
          "text": [
            "You should go to kindergarten.\n",
            "Done!\n"
          ]
        }
      ]
    },
    {
      "cell_type": "code",
      "source": [
        "album_year = 2000\n",
        "album_year = 1990\n",
        "\n",
        "if album_year >= 1995:\n",
        "  print('Album year is higher than 1995.')\n",
        "print('Done!')"
      ],
      "metadata": {
        "colab": {
          "base_uri": "https://localhost:8080/"
        },
        "id": "7MWg7Qmtxw6X",
        "outputId": "4c26b463-5e41-4d2b-e8d8-f0d72b63caa5"
      },
      "execution_count": 11,
      "outputs": [
        {
          "output_type": "stream",
          "name": "stdout",
          "text": [
            "Done!\n"
          ]
        }
      ]
    },
    {
      "cell_type": "code",
      "source": [
        "album_year = 2000\n",
        "\n",
        "# album_year = 1990\n",
        "if album_year >= 1995:\n",
        "  print('Album year is higher than 1995.')\n",
        "else:\n",
        "  print('Album year is lower than 1995.')\n",
        "print('Done!')"
      ],
      "metadata": {
        "colab": {
          "base_uri": "https://localhost:8080/"
        },
        "id": "rriDGSglyJPL",
        "outputId": "ec07e25a-8145-49b4-8cd2-ed2d5f947761"
      },
      "execution_count": 12,
      "outputs": [
        {
          "output_type": "stream",
          "name": "stdout",
          "text": [
            "Album year is higher than 1995.\n",
            "Done!\n"
          ]
        }
      ]
    },
    {
      "cell_type": "code",
      "source": [
        "imdb_point = 9.0\n",
        "if imdb_point > 8.5:\n",
        "  print('The movie could win Oscar.')"
      ],
      "metadata": {
        "colab": {
          "base_uri": "https://localhost:8080/"
        },
        "id": "Jmaghs_cyUj6",
        "outputId": "972eebe7-a93e-4093-cd51-3476ffaf7c01"
      },
      "execution_count": 13,
      "outputs": [
        {
          "output_type": "stream",
          "name": "stdout",
          "text": [
            "The movie could win Oscar.\n"
          ]
        }
      ]
    },
    {
      "cell_type": "code",
      "source": [
        "movie_rating = float(input('Enter a rating number:'))\n",
        "\n",
        "print(f'The entered movie rating is: {movie_rating}')\n",
        "if movie_rating > 8.5:\n",
        "  print('The movie is awesome with {} rating and you should watch it.'.format(movie_rating))\n",
        "else:\n",
        "  print('The movie has merit to be watched with {} rating.'.format(movie_rating))"
      ],
      "metadata": {
        "colab": {
          "base_uri": "https://localhost:8080/"
        },
        "id": "7QaAgOedyhu4",
        "outputId": "436f9e1c-7577-427a-9306-f197a1aaa4ce"
      },
      "execution_count": 14,
      "outputs": [
        {
          "output_type": "stream",
          "name": "stdout",
          "text": [
            "Enter a rating number:8.5\n",
            "The entered movie rating is: 8.5\n",
            "The movie has merit to be watched with 8.5 rating.\n"
          ]
        }
      ]
    },
    {
      "cell_type": "code",
      "source": [
        "note = float(input('Enter a note:'))\n",
        "print(f'The entered note value is: {note}')\n",
        "if note >= 90 and note <= 100:\n",
        "  print('The letter grade is AA.')\n",
        "elif note >= 85 and note <= 89:\n",
        "  print('The letter grade is BA.')\n",
        "elif note >= 80 and note <= 84:\n",
        "  print('The letter grade is BB.')\n",
        "elif note >= 75 and note <= 79:\n",
        "  print('The letter grade is CB.')\n",
        "elif note >= 70 and note <= 74:\n",
        "  print('The letter grade is CC.')\n",
        "elif note >= 65 and note <= 69:\n",
        "  print('The letter grade is DC.')\n",
        "elif note >= 60 and note <= 64:\n",
        "  print('The letter grade is DD.')\n",
        "elif note >=55 and note <= 59:\n",
        "  print('The letter grade is ED.')\n",
        "elif note >=50 and note <= 54:\n",
        "  print('The letter grade is EE.')\n",
        "elif note >=45 and note <=49:\n",
        "  print('The letter grade is FE.')\n",
        "else:\n",
        "  print('The letter grade is FF.')"
      ],
      "metadata": {
        "colab": {
          "base_uri": "https://localhost:8080/"
        },
        "id": "qr5Jh8dHy6cJ",
        "outputId": "1286a63a-5f41-444f-d500-ea311e6837f9"
      },
      "execution_count": 15,
      "outputs": [
        {
          "output_type": "stream",
          "name": "stdout",
          "text": [
            "Enter a note:74\n",
            "The entered note value is: 74.0\n",
            "The letter grade is CC.\n"
          ]
        }
      ]
    },
    {
      "cell_type": "code",
      "source": [
        "number = int(input('Enter a number:'))\n",
        "print(f'The entered number is: {number}')\n",
        "if number %2 == 0:\n",
        "  print(f'The entered number {number} is even')\n",
        "else:\n",
        "  print(f'The entered number {number} is odd')"
      ],
      "metadata": {
        "colab": {
          "base_uri": "https://localhost:8080/"
        },
        "id": "l2R8Q6hIzXvd",
        "outputId": "3de9766d-968d-4263-bec6-678b6016e5df"
      },
      "execution_count": 16,
      "outputs": [
        {
          "output_type": "stream",
          "name": "stdout",
          "text": [
            "Enter a number:7\n",
            "The entered number is: 7\n",
            "The entered number 7 is odd\n"
          ]
        }
      ]
    },
    {
      "cell_type": "code",
      "source": [
        "birth_year = 1990\n",
        "if birth_year > 1989 and birth_year < 1995:\n",
        "  print('You were born between 1990 and 1994')\n",
        "print('Done!')"
      ],
      "metadata": {
        "colab": {
          "base_uri": "https://localhost:8080/"
        },
        "id": "zy7SAPYQzkln",
        "outputId": "17d6ad59-8fc2-4c93-9d43-d2f76f230464"
      },
      "execution_count": 17,
      "outputs": [
        {
          "output_type": "stream",
          "name": "stdout",
          "text": [
            "You were born between 1990 and 1994\n",
            "Done!\n"
          ]
        }
      ]
    },
    {
      "cell_type": "code",
      "source": [
        "x = int(input('Enter a number:'))\n",
        "y = int(input('Enter a number:'))\n",
        "z = int(input('Enter a number:'))\n",
        "\n",
        "print(f'The entered numbers for x, y, and z are {x}, {y}, and {z}, respectively.')\n",
        "\n",
        "if x>y and x>z:\n",
        "  print(f'The number x with {x} is the greatest number.')\n",
        "elif y>x and y>z:\n",
        "  print(f'The number y with {y} is the greatest number.')\n",
        "else:\n",
        "  print(f'The number z with {z} is the greatest number.')"
      ],
      "metadata": {
        "colab": {
          "base_uri": "https://localhost:8080/"
        },
        "id": "jYDhjTcZzs66",
        "outputId": "565e0e81-e5e2-405b-ea07-cfc79f957b9a"
      },
      "execution_count": 21,
      "outputs": [
        {
          "output_type": "stream",
          "name": "stdout",
          "text": [
            "Enter a number:5\n",
            "Enter a number:7\n",
            "Enter a number:6\n",
            "The entered numbers for x, y, and z are 5, 7, and 6, respectively.\n",
            "The number y with 7 is the greatest number.\n"
          ]
        }
      ]
    },
    {
      "cell_type": "code",
      "source": [
        "birth_year = 1990\n",
        "if birth_year < 1980 or birth_year > 1989:\n",
        " print('You were not born in 1980s.')\n",
        "else:\n",
        "  print('You were born in 1990s.')\n",
        "print('Done!')"
      ],
      "metadata": {
        "colab": {
          "base_uri": "https://localhost:8080/"
        },
        "id": "y7Kn5khm0YGE",
        "outputId": "d37a5456-a780-47fb-c926-392b4c781dc8"
      },
      "execution_count": 22,
      "outputs": [
        {
          "output_type": "stream",
          "name": "stdout",
          "text": [
            "You were not born in 1980s.\n",
            "Done!\n"
          ]
        }
      ]
    },
    {
      "cell_type": "code",
      "source": [
        "birth_year = 1990\n",
        "\n",
        "if not birth_year == 1991:\n",
        " print('The year of birth is not 1991.')"
      ],
      "metadata": {
        "colab": {
          "base_uri": "https://localhost:8080/"
        },
        "id": "i6WqRK4C0lUq",
        "outputId": "a8f066b2-7609-4173-db3f-29b11353ddc7"
      },
      "execution_count": 23,
      "outputs": [
        {
          "output_type": "stream",
          "name": "stdout",
          "text": [
            "The year of birth is not 1991.\n"
          ]
        }
      ]
    },
    {
      "cell_type": "code",
      "source": [
        "birth_year = int(input('Enter a year of birth: '))\n",
        "\n",
        "print(f'The entered year of birth is: {birth_year}')\n",
        "\n",
        "if birth_year < 1985 or birth_year == 1991 or birth_year == 1995:\n",
        "  print(f'You were born in {birth_year}')\n",
        "else:\n",
        "  # For instance, if your year of birth is 1993\n",
        "  print(f'Your year of birth with {birth_year} is wrong.')"
      ],
      "metadata": {
        "colab": {
          "base_uri": "https://localhost:8080/"
        },
        "id": "-5BPtYlu0rqn",
        "outputId": "f4721fc2-d35c-408e-f8fa-4ee9f2ae367a"
      },
      "execution_count": 24,
      "outputs": [
        {
          "output_type": "stream",
          "name": "stdout",
          "text": [
            "Enter a year of birth: 1997\n",
            "The entered year of birth is: 1997\n",
            "Your year of birth with 1997 is wrong.\n"
          ]
        }
      ]
    },
    {
      "cell_type": "code",
      "source": [
        "birth_year = int(input('Enter a year of birth: '))\n",
        "\n",
        "print(f'The entered year of birth is: {birth_year}')\n",
        "\n",
        "if birth_year < 1985 or birth_year == 1991 or birth_year == 1995:\n",
        "  # For instance, if your year of birth is 1995\n",
        "  print(f'You were born in {birth_year}')\n",
        "else:\n",
        "  print(f'Your year of birth with {birth_year} is wrong.')"
      ],
      "metadata": {
        "colab": {
          "base_uri": "https://localhost:8080/"
        },
        "id": "wRJOFy4L1BLA",
        "outputId": "1b91aa79-35f2-4966-c327-582f82657446"
      },
      "execution_count": 25,
      "outputs": [
        {
          "output_type": "stream",
          "name": "stdout",
          "text": [
            "Enter a year of birth: 1995\n",
            "The entered year of birth is: 1995\n",
            "You were born in 1995\n"
          ]
        }
      ]
    }
  ],
  "metadata": {
    "colab": {
      "provenance": []
    },
    "kernelspec": {
      "display_name": "Python 3",
      "name": "python3"
    },
    "language_info": {
      "name": "python"
    }
  },
  "nbformat": 4,
  "nbformat_minor": 0
}