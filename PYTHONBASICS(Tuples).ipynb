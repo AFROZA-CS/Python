{
  "nbformat": 4,
  "nbformat_minor": 0,
  "metadata": {
    "colab": {
      "provenance": []
    },
    "kernelspec": {
      "name": "python3",
      "display_name": "Python 3"
    },
    "language_info": {
      "name": "python"
    }
  },
  "cells": [
    {
      "cell_type": "code",
      "execution_count": 1,
      "metadata": {
        "colab": {
          "base_uri": "https://localhost:8080/"
        },
        "id": "k-3Eo2eaNokA",
        "outputId": "382c379b-0484-4f8c-dde8-d82fa1d9bbb3"
      },
      "outputs": [
        {
          "output_type": "execute_result",
          "data": {
            "text/plain": [
              "('Hello',\n",
              " 'Python',\n",
              " 3.14,\n",
              " 1.618,\n",
              " True,\n",
              " False,\n",
              " 32,\n",
              " [1, 2, 3],\n",
              " {1, 2, 3},\n",
              " {'A': 3, 'B': 8},\n",
              " (0, 1))"
            ]
          },
          "metadata": {},
          "execution_count": 1
        }
      ],
      "source": [
        "# Take a tuple\n",
        "tuple_1 = ('Hello', 'Python', 3.14, 1.618, True, False, 32, [1,2,3], {1,2,3}, {'A': 3, 'B': 8}, (0, 1))\n",
        "tuple_1"
      ]
    },
    {
      "cell_type": "code",
      "source": [
        "print(type(tuple_1))\n",
        "print(len(tuple_1))"
      ],
      "metadata": {
        "colab": {
          "base_uri": "https://localhost:8080/"
        },
        "id": "aVlZlsNlOnhQ",
        "outputId": "53e0926a-e324-4d02-8669-e0bebb93ab4e"
      },
      "execution_count": 2,
      "outputs": [
        {
          "output_type": "stream",
          "name": "stdout",
          "text": [
            "<class 'tuple'>\n",
            "11\n"
          ]
        }
      ]
    },
    {
      "cell_type": "markdown",
      "source": [
        "Indexing"
      ],
      "metadata": {
        "id": "X_2lt8RqOtv6"
      }
    },
    {
      "cell_type": "code",
      "source": [
        "# Printing the each value in a tuple using both positive and negative indexing\n",
        "tuple_1 = ('Hello', 'Python', 3.14, 1.618, True, False, 32, [1,2,3], {1,2,3}, {'A': 3, 'B': 8}, (0, 1))\n",
        "print(tuple_1[0])\n",
        "print(tuple_1[1])\n",
        "print(tuple_1[2])\n",
        "print(tuple_1[-1])\n",
        "print(tuple_1[-2])\n",
        "print(tuple_1[-3])"
      ],
      "metadata": {
        "id": "OtVEfEdjOxOD"
      },
      "execution_count": null,
      "outputs": []
    },
    {
      "cell_type": "code",
      "source": [
        "# Printing the type of each value in the tuple\n",
        "tuple_1 = ('Hello', 'Python', 3.14, 1.618, True, False, 32, [1,2,3], {1,2,3}, {'A': 3, 'B': 8}, (0, 1))\n",
        "print(type(tuple_1[0]))\n",
        "print(type(tuple_1[2]))\n",
        "print(type(tuple_1[4]))\n",
        "print(type(tuple_1[6]))\n",
        "print(type(tuple_1[7]))\n",
        "print(type(tuple_1[8]))\n",
        "print(type(tuple_1[9]))\n",
        "print(type(tuple_1[10]))"
      ],
      "metadata": {
        "colab": {
          "base_uri": "https://localhost:8080/"
        },
        "id": "ab-edv14PmLp",
        "outputId": "c0566fa6-0ce4-4ba6-ab6f-ceaa5fa0b8bf"
      },
      "execution_count": 3,
      "outputs": [
        {
          "output_type": "stream",
          "name": "stdout",
          "text": [
            "<class 'str'>\n",
            "<class 'float'>\n",
            "<class 'bool'>\n",
            "<class 'int'>\n",
            "<class 'list'>\n",
            "<class 'set'>\n",
            "<class 'dict'>\n",
            "<class 'tuple'>\n"
          ]
        }
      ]
    },
    {
      "cell_type": "markdown",
      "source": [
        "Concatenation of tuples"
      ],
      "metadata": {
        "id": "ahgUkOIRP4uW"
      }
    },
    {
      "cell_type": "code",
      "source": [
        "tuple_2 = tuple_1 + ('Hello World!', 2022)\n",
        "tuple_2"
      ],
      "metadata": {
        "colab": {
          "base_uri": "https://localhost:8080/"
        },
        "id": "HDwtD3JgP8aB",
        "outputId": "aa7a2533-9ee5-4e52-8667-2e9e9104d298"
      },
      "execution_count": 4,
      "outputs": [
        {
          "output_type": "execute_result",
          "data": {
            "text/plain": [
              "('Hello',\n",
              " 'Python',\n",
              " 3.14,\n",
              " 1.618,\n",
              " True,\n",
              " False,\n",
              " 32,\n",
              " [1, 2, 3],\n",
              " {1, 2, 3},\n",
              " {'A': 3, 'B': 8},\n",
              " (0, 1),\n",
              " 'Hello World!',\n",
              " 2022)"
            ]
          },
          "metadata": {},
          "execution_count": 4
        }
      ]
    },
    {
      "cell_type": "code",
      "source": [
        "rep_tup = (1,2,3,4)\n",
        "rep_tup*2"
      ],
      "metadata": {
        "colab": {
          "base_uri": "https://localhost:8080/"
        },
        "id": "oHTboclGQE98",
        "outputId": "766c129a-9be4-4618-db35-68f4c703bdd2"
      },
      "execution_count": 5,
      "outputs": [
        {
          "output_type": "execute_result",
          "data": {
            "text/plain": [
              "(1, 2, 3, 4, 1, 2, 3, 4)"
            ]
          },
          "metadata": {},
          "execution_count": 5
        }
      ]
    },
    {
      "cell_type": "code",
      "source": [
        "rep_tup = (1,2,3,4)\n",
        "print(2 in rep_tup)\n",
        "print(2 not in rep_tup)\n",
        "print(5 in rep_tup)\n",
        "print(5 not in rep_tup)"
      ],
      "metadata": {
        "colab": {
          "base_uri": "https://localhost:8080/"
        },
        "id": "oJVjGSMBQJx_",
        "outputId": "c8a3fd3b-0c25-410e-a36a-0180867dbd24"
      },
      "execution_count": 6,
      "outputs": [
        {
          "output_type": "stream",
          "name": "stdout",
          "text": [
            "True\n",
            "False\n",
            "False\n",
            "True\n"
          ]
        }
      ]
    },
    {
      "cell_type": "code",
      "source": [
        "rep_tup = (1,2,3,4)\n",
        "for i in rep_tup:\n",
        "      print(i)"
      ],
      "metadata": {
        "colab": {
          "base_uri": "https://localhost:8080/"
        },
        "id": "_KtYsBmyVlt_",
        "outputId": "73868194-fb81-47d9-836a-01a4289b40d6"
      },
      "execution_count": 8,
      "outputs": [
        {
          "output_type": "stream",
          "name": "stdout",
          "text": [
            "1\n",
            "2\n",
            "3\n",
            "4\n"
          ]
        }
      ]
    },
    {
      "cell_type": "code",
      "source": [
        "def cmp(t1, t2):\n",
        "    return bool(t1 > t2) - bool(t1 < t2)\n",
        "def cmp(t31, t4):\n",
        "    return bool(t3 > t4) - bool(t3 < t4)\n",
        "def cmp(t5, t6):\n",
        "     return bool(t5 > t6) - bool(t5 < t6)\n",
        "\n",
        "t1 = (1,3,5) # Here t1 is lower than t2, since the output is -1\n",
        "t2 = (2,4,6)\n",
        "\n",
        "t3 = (5,)     # Here t3 is higher than t4 since the output is 1\n",
        "t4 = (4,)\n",
        "\n",
        "t5 = (3.14,)   # Here t5 is equal to t6 since the output is 0\n",
        "t6 = (3.14,)\n",
        "\n",
        "\n",
        "\n",
        "print(cmp(t1, t2))\n",
        "print(cmp(t3, t4))\n",
        "print(cmp(t5, t6))"
      ],
      "metadata": {
        "colab": {
          "base_uri": "https://localhost:8080/"
        },
        "id": "ZPDYNZ5YVuiO",
        "outputId": "e1cbe567-f142-43dc-83eb-27f5aa679fb8"
      },
      "execution_count": 9,
      "outputs": [
        {
          "output_type": "stream",
          "name": "stdout",
          "text": [
            "-1\n",
            "1\n",
            "0\n"
          ]
        }
      ]
    },
    {
      "cell_type": "code",
      "source": [
        "rep_tup = (1,2,3,4)\n",
        "min(rep_tup)"
      ],
      "metadata": {
        "colab": {
          "base_uri": "https://localhost:8080/"
        },
        "id": "mzn2dqhLXszL",
        "outputId": "267165d2-8d35-4225-95a6-53223caf1755"
      },
      "execution_count": 10,
      "outputs": [
        {
          "output_type": "execute_result",
          "data": {
            "text/plain": [
              "1"
            ]
          },
          "metadata": {},
          "execution_count": 10
        }
      ]
    },
    {
      "cell_type": "code",
      "source": [
        "rep_tup = (1,2,3,4)\n",
        "max(rep_tup)"
      ],
      "metadata": {
        "colab": {
          "base_uri": "https://localhost:8080/"
        },
        "id": "U5PetdhmXxRG",
        "outputId": "4fd79c96-2f2d-427f-afc0-5acf36d38a8d"
      },
      "execution_count": 11,
      "outputs": [
        {
          "output_type": "execute_result",
          "data": {
            "text/plain": [
              "4"
            ]
          },
          "metadata": {},
          "execution_count": 11
        }
      ]
    },
    {
      "cell_type": "code",
      "source": [
        "seq = 'ATGCGTATTGCCAT'\n",
        "tuple(seq)"
      ],
      "metadata": {
        "colab": {
          "base_uri": "https://localhost:8080/"
        },
        "id": "isgEORbOX3wc",
        "outputId": "261cb4d5-7ac6-4c56-f4e4-033cf8ef5073"
      },
      "execution_count": 12,
      "outputs": [
        {
          "output_type": "execute_result",
          "data": {
            "text/plain": [
              "('A', 'T', 'G', 'C', 'G', 'T', 'A', 'T', 'T', 'G', 'C', 'C', 'A', 'T')"
            ]
          },
          "metadata": {},
          "execution_count": 12
        }
      ]
    },
    {
      "cell_type": "code",
      "source": [
        "# Obtaining a new tuple from the index 2 to index 6\n",
        "\n",
        "tuple_1 = ('Hello', 'Python', 3.14, 1.618, True, False, 32, [1,2,3], {1,2,3}, {'A': 3, 'B': 8}, (0, 1))\n",
        "tuple_1[2:7]"
      ],
      "metadata": {
        "colab": {
          "base_uri": "https://localhost:8080/"
        },
        "id": "wX4M7ZhXX7gC",
        "outputId": "e428f278-4b4f-44cb-a0de-95ea38feecc5"
      },
      "execution_count": 13,
      "outputs": [
        {
          "output_type": "execute_result",
          "data": {
            "text/plain": [
              "(3.14, 1.618, True, False, 32)"
            ]
          },
          "metadata": {},
          "execution_count": 13
        }
      ]
    },
    {
      "cell_type": "code",
      "source": [
        "# Obtaining tuple using negative indexing\n",
        "tuple_1 = ('Hello', 'Python', 3.14, 1.618, True, False, 32, [1,2,3], {1,2,3}, {'A': 3, 'B': 8}, (0, 1))\n",
        "tuple_1[-4:-1]"
      ],
      "metadata": {
        "colab": {
          "base_uri": "https://localhost:8080/"
        },
        "id": "GtxRjQRQYHK7",
        "outputId": "cc8ea03b-8511-416e-805b-f5dc8edfee95"
      },
      "execution_count": 14,
      "outputs": [
        {
          "output_type": "execute_result",
          "data": {
            "text/plain": [
              "([1, 2, 3], {1, 2, 3}, {'A': 3, 'B': 8})"
            ]
          },
          "metadata": {},
          "execution_count": 14
        }
      ]
    },
    {
      "cell_type": "code",
      "source": [
        "tuple_1 = ('Hello', 'Python', 3.14, 1.618, True, False, 32, [1,2,3], {1,2,3}, {'A': 3, 'B': 8}, (0, 1))\n",
        "len(tuple_1)"
      ],
      "metadata": {
        "colab": {
          "base_uri": "https://localhost:8080/"
        },
        "id": "SyZlRsUcYNpf",
        "outputId": "63729e17-1720-4211-ba8e-fe3135788ffd"
      },
      "execution_count": 15,
      "outputs": [
        {
          "output_type": "execute_result",
          "data": {
            "text/plain": [
              "11"
            ]
          },
          "metadata": {},
          "execution_count": 15
        }
      ]
    },
    {
      "cell_type": "code",
      "source": [
        "# Tuples can be sorted and save as a new tuple.\n",
        "tuple_3 = (0,9,7,4,6,2,9,8,3,1)\n",
        "sorted_tuple_3 = sorted(tuple_3)\n",
        "sorted_tuple_3"
      ],
      "metadata": {
        "colab": {
          "base_uri": "https://localhost:8080/"
        },
        "id": "Ctok-ULqYS9X",
        "outputId": "60f53001-8fa5-4dcd-b9a0-d0c7ab7a6d2a"
      },
      "execution_count": 16,
      "outputs": [
        {
          "output_type": "execute_result",
          "data": {
            "text/plain": [
              "[0, 1, 2, 3, 4, 6, 7, 8, 9, 9]"
            ]
          },
          "metadata": {},
          "execution_count": 16
        }
      ]
    },
    {
      "cell_type": "code",
      "source": [
        "# Take a nested tuple\n",
        "nested_tuple =('biotechnology', (0, 5), ('fermentation', 'ethanol'), (3.14, 'pi', (1.618, 'golden ratio')) )\n",
        "nested_tuple"
      ],
      "metadata": {
        "colab": {
          "base_uri": "https://localhost:8080/"
        },
        "id": "vJtueRWsYYu3",
        "outputId": "ed19aecd-7833-44cc-9253-922e1454a45b"
      },
      "execution_count": 17,
      "outputs": [
        {
          "output_type": "execute_result",
          "data": {
            "text/plain": [
              "('biotechnology',\n",
              " (0, 5),\n",
              " ('fermentation', 'ethanol'),\n",
              " (3.14, 'pi', (1.618, 'golden ratio')))"
            ]
          },
          "metadata": {},
          "execution_count": 17
        }
      ]
    },
    {
      "cell_type": "code",
      "source": [
        "# Now printing the each element of the nested tuple\n",
        "print('Item 0 of nested tuple is', nested_tuple[0])\n",
        "print('Item 1 of nested tuple is', nested_tuple[1])\n",
        "print('Item 2 of nested tuple is', nested_tuple[2])\n",
        "print('Item 3 of nested tuple is', nested_tuple[3])"
      ],
      "metadata": {
        "colab": {
          "base_uri": "https://localhost:8080/"
        },
        "id": "EytO5lX-YnEV",
        "outputId": "e1fe9e85-1f1a-4215-d192-22a8562aca6b"
      },
      "execution_count": 18,
      "outputs": [
        {
          "output_type": "stream",
          "name": "stdout",
          "text": [
            "Item 0 of nested tuple is biotechnology\n",
            "Item 1 of nested tuple is (0, 5)\n",
            "Item 2 of nested tuple is ('fermentation', 'ethanol')\n",
            "Item 3 of nested tuple is (3.14, 'pi', (1.618, 'golden ratio'))\n"
          ]
        }
      ]
    },
    {
      "cell_type": "code",
      "source": [
        "# Using second index to access other tuples in the nested tuple\n",
        "print('Item 1, 0 of the nested tuple is', nested_tuple[1][0])\n",
        "print('Item 1, 1 of the nested tuple is', nested_tuple[1][1])\n",
        "print('Item 2, 0 of the nested tuple is', nested_tuple[2][0])\n",
        "print('Item 2, 1 of the nested tuple is', nested_tuple[2][1])\n",
        "print('Item 3, 0 of the nested tuple is', nested_tuple[3][0])\n",
        "print('Item 3, 1 of the nested tuple is', nested_tuple[3][1])\n",
        "print('Item 3, 2 of the nested tuple is', nested_tuple[3][2])\n",
        "# Accesing to the items in the second nested tuples using a third index\n",
        "print('Item 3, 2, 0 of the nested tuple is', nested_tuple[3][2][0])\n",
        "print('Item 3, 2, 1 of the nested tuple is', nested_tuple[3][2][1])"
      ],
      "metadata": {
        "colab": {
          "base_uri": "https://localhost:8080/"
        },
        "id": "ADD_ZMYkYykB",
        "outputId": "67524f34-d7ba-4be1-8e95-e11098f1c207"
      },
      "execution_count": 19,
      "outputs": [
        {
          "output_type": "stream",
          "name": "stdout",
          "text": [
            "Item 1, 0 of the nested tuple is 0\n",
            "Item 1, 1 of the nested tuple is 5\n",
            "Item 2, 0 of the nested tuple is fermentation\n",
            "Item 2, 1 of the nested tuple is ethanol\n",
            "Item 3, 0 of the nested tuple is 3.14\n",
            "Item 3, 1 of the nested tuple is pi\n",
            "Item 3, 2 of the nested tuple is (1.618, 'golden ratio')\n",
            "Item 3, 2, 0 of the nested tuple is 1.618\n",
            "Item 3, 2, 1 of the nested tuple is golden ratio\n"
          ]
        }
      ]
    },
    {
      "cell_type": "markdown",
      "source": [
        "Tuples are Immutable"
      ],
      "metadata": {
        "id": "kxcyimB-ZFPi"
      }
    },
    {
      "cell_type": "code",
      "source": [
        "# Take a tuple\n",
        "tuple_4 = (1,3,5,7,8)\n",
        "tuple_4[0] = 9\n",
        "print(tuple_4)\n",
        "# The output shows the tuple is immutable"
      ],
      "metadata": {
        "id": "ixhPHoZtZJFJ"
      },
      "execution_count": null,
      "outputs": []
    },
    {
      "cell_type": "code",
      "source": [
        "uple_4 = (1,3,5,7,8)\n",
        "print('Before deleting:', tuple_4)\n",
        "del tuple_4\n",
        "print('After deleting:', tuple_4)"
      ],
      "metadata": {
        "id": "u3Uex3qBZTIX"
      },
      "execution_count": null,
      "outputs": []
    },
    {
      "cell_type": "code",
      "source": [
        "tuple_5 = (1,1,3,3,5,5,5,5,6,6,7,8,9)\n",
        "tuple_5.count(5)"
      ],
      "metadata": {
        "colab": {
          "base_uri": "https://localhost:8080/"
        },
        "id": "m4B85VrFZf0D",
        "outputId": "8569f5fd-e5d1-404a-fe8c-aff29d0be2ee"
      },
      "execution_count": 20,
      "outputs": [
        {
          "output_type": "execute_result",
          "data": {
            "text/plain": [
              "4"
            ]
          },
          "metadata": {},
          "execution_count": 20
        }
      ]
    },
    {
      "cell_type": "code",
      "source": [
        "tuple_5 = (1,1,3,3,5,5,5,5,6,6,7,8,9)\n",
        "print(tuple_5.index(5))\n",
        "print(tuple_5.index(1))\n",
        "print(tuple_5.index(9))"
      ],
      "metadata": {
        "colab": {
          "base_uri": "https://localhost:8080/"
        },
        "id": "x1ecCXWZZst3",
        "outputId": "2ed73456-df56-410f-db67-ec6d9755a8d0"
      },
      "execution_count": 21,
      "outputs": [
        {
          "output_type": "stream",
          "name": "stdout",
          "text": [
            "4\n",
            "0\n",
            "12\n"
          ]
        }
      ]
    },
    {
      "cell_type": "code",
      "source": [
        "tuple_6 = (0)\n",
        "print(tuple_6)\n",
        "print(type(tuple_6))\n",
        "\n",
        "# Here, you see that the output is an integer"
      ],
      "metadata": {
        "colab": {
          "base_uri": "https://localhost:8080/"
        },
        "id": "L2C4nHVBZzpZ",
        "outputId": "b09fb3bb-e8d2-4377-cc43-2db6fa284fca"
      },
      "execution_count": 22,
      "outputs": [
        {
          "output_type": "stream",
          "name": "stdout",
          "text": [
            "0\n",
            "<class 'int'>\n"
          ]
        }
      ]
    },
    {
      "cell_type": "code",
      "source": [
        "tuple_7 = (0,)\n",
        "print(tuple_7)\n",
        "print(type(tuple_7))\n",
        "\n",
        "# You see that the output is a tuple"
      ],
      "metadata": {
        "colab": {
          "base_uri": "https://localhost:8080/"
        },
        "id": "EJdrvlnVaBaW",
        "outputId": "afd91744-80a3-4de3-eab2-11fc7b55b78a"
      },
      "execution_count": 23,
      "outputs": [
        {
          "output_type": "stream",
          "name": "stdout",
          "text": [
            "(0,)\n",
            "<class 'tuple'>\n"
          ]
        }
      ]
    }
  ]
}