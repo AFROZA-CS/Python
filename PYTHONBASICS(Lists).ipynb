{
  "nbformat": 4,
  "nbformat_minor": 0,
  "metadata": {
    "colab": {
      "provenance": []
    },
    "kernelspec": {
      "name": "python3",
      "display_name": "Python 3"
    },
    "language_info": {
      "name": "python"
    }
  },
  "cells": [
    {
      "cell_type": "markdown",
      "source": [
        "Indexing"
      ],
      "metadata": {
        "id": "-9hZbCYImDtA"
      }
    },
    {
      "cell_type": "code",
      "execution_count": null,
      "metadata": {
        "id": "CpZ2mwUcIgkD",
        "colab": {
          "base_uri": "https://localhost:8080/"
        },
        "outputId": "d765a8b3-ea86-44e8-87be-40179b36e91b"
      },
      "outputs": [
        {
          "output_type": "execute_result",
          "data": {
            "text/plain": [
              "['python', 25, 2022]"
            ]
          },
          "metadata": {},
          "execution_count": 1
        }
      ],
      "source": [
        "# creating a list\n",
        "nlis = ['python', 25, 2022]\n",
        "nlis"
      ]
    },
    {
      "cell_type": "code",
      "source": [
        "print('Positive and negative indexing of the first element: \\n - Positive index:', nlis[0], '\\n - Negative index:', nlis[-3])\n",
        "print()\n",
        "print('Postive and negative indexing of the second element: \\n - Positive index:', nlis[1], '\\n - Negative index:', nlis[-2])\n",
        "print()\n",
        "print('Positive and negative indexing of the third element: \\n - Positive index:', nlis[2], '\\n - Negative index:', nlis[-1])"
      ],
      "metadata": {
        "colab": {
          "base_uri": "https://localhost:8080/"
        },
        "id": "b-iA5wFBmXcx",
        "outputId": "1e3b3195-fdb7-4444-9530-ae182fb3eb8a"
      },
      "execution_count": null,
      "outputs": [
        {
          "output_type": "stream",
          "name": "stdout",
          "text": [
            "Positive and negative indexing of the first element: \n",
            " - Positive index: python \n",
            " - Negative index: python\n",
            "\n",
            "Postive and negative indexing of the second element: \n",
            " - Positive index: 25 \n",
            " - Negative index: 25\n",
            "\n",
            "Positive and negative indexing of the third element: \n",
            " - Positive index: 2022 \n",
            " - Negative index: 2022\n"
          ]
        }
      ]
    },
    {
      "cell_type": "markdown",
      "source": [
        "What can content a list?\n",
        "Strings\n",
        "\n",
        "*   Strings\n",
        "*   Floats\n",
        "*   Integer\n",
        "*   Boolean\n",
        "*   Nested List\n",
        "*   Nested Tuple\n",
        "*   Other data structures"
      ],
      "metadata": {
        "id": "BUMsVxRimuAR"
      }
    },
    {
      "cell_type": "code",
      "source": [
        "nlis = ['python', 3.14, 2022, [1, 1, 2, 3, 5, 8, 13, 21, 34], ('hello', 'python', 3,14, 2022)]\n",
        "nlis"
      ],
      "metadata": {
        "colab": {
          "base_uri": "https://localhost:8080/"
        },
        "id": "eyTr2WjBnPeu",
        "outputId": "1d78ba22-8921-43cf-8a5c-921b3dfd9f04"
      },
      "execution_count": null,
      "outputs": [
        {
          "output_type": "execute_result",
          "data": {
            "text/plain": [
              "['python',\n",
              " 3.14,\n",
              " 2022,\n",
              " [1, 1, 2, 3, 5, 8, 13, 21, 34],\n",
              " ('hello', 'python', 3, 14, 2022)]"
            ]
          },
          "metadata": {},
          "execution_count": 3
        }
      ]
    },
    {
      "cell_type": "markdown",
      "source": [
        "List operations"
      ],
      "metadata": {
        "id": "1EpWbBFCnYq9"
      }
    },
    {
      "cell_type": "code",
      "source": [
        "# take a list\n",
        "nlis = ['python', 3.14, 2022, [1, 1, 2, 3, 5, 8, 13, 21, 34], ('hello', 'python', 3,14, 2022)]\n",
        "nlis"
      ],
      "metadata": {
        "colab": {
          "base_uri": "https://localhost:8080/"
        },
        "id": "ZM5VmxfKncv5",
        "outputId": "43c4863a-fb85-43b5-c3ac-650b48a12a1f"
      },
      "execution_count": null,
      "outputs": [
        {
          "output_type": "execute_result",
          "data": {
            "text/plain": [
              "['python',\n",
              " 3.14,\n",
              " 2022,\n",
              " [1, 1, 2, 3, 5, 8, 13, 21, 34],\n",
              " ('hello', 'python', 3, 14, 2022)]"
            ]
          },
          "metadata": {},
          "execution_count": 4
        }
      ]
    },
    {
      "cell_type": "code",
      "source": [
        "# length of the list\n",
        "len(nlis)"
      ],
      "metadata": {
        "colab": {
          "base_uri": "https://localhost:8080/"
        },
        "id": "50b-x-EypH4J",
        "outputId": "af4a8966-9c1c-4e83-f856-49c1ec2056e6"
      },
      "execution_count": null,
      "outputs": [
        {
          "output_type": "execute_result",
          "data": {
            "text/plain": [
              "5"
            ]
          },
          "metadata": {},
          "execution_count": 5
        }
      ]
    },
    {
      "cell_type": "markdown",
      "source": [
        "Slicing"
      ],
      "metadata": {
        "id": "8rgmMFeIpL7g"
      }
    },
    {
      "cell_type": "code",
      "source": [
        "# slicing of a list\n",
        "print(nlis[0:2])\n",
        "print(nlis[2:4])\n",
        "print(nlis[4:6])"
      ],
      "metadata": {
        "colab": {
          "base_uri": "https://localhost:8080/"
        },
        "id": "UbnojCAWpQfL",
        "outputId": "20caca56-f10c-46f1-c41e-17beb2c312f7"
      },
      "execution_count": null,
      "outputs": [
        {
          "output_type": "stream",
          "name": "stdout",
          "text": [
            "['python', 3.14]\n",
            "[2022, [1, 1, 2, 3, 5, 8, 13, 21, 34]]\n",
            "[('hello', 'python', 3, 14, 2022)]\n"
          ]
        }
      ]
    },
    {
      "cell_type": "markdown",
      "source": [
        "Extending the list\n",
        "\n",
        "\n",
        "*   we use the extend() function to add a new element to the list.\n",
        "*   With this function, we add more than one element to the list.\n",
        "\n"
      ],
      "metadata": {
        "id": "HoK6hMX6pb30"
      }
    },
    {
      "cell_type": "code",
      "source": [
        "# take a list\n",
        "nlis = ['python', 3.14, 2022, [1, 1, 2, 3, 5, 8, 13, 21, 34], ('hello', 'python', 3,14, 2022)]\n",
        "nlis.extend(['hello world!', 1.618])\n",
        "nlis"
      ],
      "metadata": {
        "colab": {
          "base_uri": "https://localhost:8080/"
        },
        "id": "u2BzEeippq_A",
        "outputId": "470497f7-590b-4ecd-fefe-7053cd58085a"
      },
      "execution_count": null,
      "outputs": [
        {
          "output_type": "execute_result",
          "data": {
            "text/plain": [
              "['python',\n",
              " 3.14,\n",
              " 2022,\n",
              " [1, 1, 2, 3, 5, 8, 13, 21, 34],\n",
              " ('hello', 'python', 3, 14, 2022),\n",
              " 'hello world!',\n",
              " 1.618]"
            ]
          },
          "metadata": {},
          "execution_count": 7
        }
      ]
    },
    {
      "cell_type": "markdown",
      "source": [
        "append() method\n",
        "\n",
        "\n",
        "\n",
        "*   As different from the extend() method, with the append() method, we add only one element to the list\n",
        "*   You can see the difference by comparing the above and below codes.\n",
        "\n"
      ],
      "metadata": {
        "id": "ei--Q7tOqBnM"
      }
    },
    {
      "cell_type": "code",
      "source": [
        "nlis = ['python', 3.14, 2022, [1, 1, 2, 3, 5, 8, 13, 21, 34], ('hello', 'python', 3,14, 2022)]\n",
        "nlis.append(['hello world!', 1.618])\n",
        "nlis"
      ],
      "metadata": {
        "colab": {
          "base_uri": "https://localhost:8080/"
        },
        "id": "GEMoPky4qO3H",
        "outputId": "2f626a55-2e48-42db-fe2d-b5aa233f7fa6"
      },
      "execution_count": null,
      "outputs": [
        {
          "output_type": "execute_result",
          "data": {
            "text/plain": [
              "['python',\n",
              " 3.14,\n",
              " 2022,\n",
              " [1, 1, 2, 3, 5, 8, 13, 21, 34],\n",
              " ('hello', 'python', 3, 14, 2022),\n",
              " ['hello world!', 1.618]]"
            ]
          },
          "metadata": {},
          "execution_count": 8
        }
      ]
    },
    {
      "cell_type": "code",
      "source": [
        "lis = [1,2,3,4,5,6,7]\n",
        "print(len(lis))\n",
        "lis.append(4)\n",
        "print(lis)\n",
        "print(lis.count(4)) # How many 4 are on the list 'lis'?\n",
        "print(lis.index(2)) # What is the index of the number 2 in the list 'lis'?\n",
        "lis.insert(8, 9)    # What is the index of the number 2 in the list 'lis'?\n",
        "print(lis)\n",
        "print(max(lis)) # Add number 9 to the index 8.\n",
        "print(min(lis)) # What is the maximum number in the list? # What is the minimum number in the list?\n",
        "print(sum(lis)) # What is the sum of the numbers in the list?\n",
        "\n",
        "\n",
        "\n",
        "\n"
      ],
      "metadata": {
        "colab": {
          "base_uri": "https://localhost:8080/"
        },
        "id": "GKG8cU23qi4E",
        "outputId": "0893868d-d39e-4a52-95e8-a6c97598b0c9"
      },
      "execution_count": null,
      "outputs": [
        {
          "output_type": "stream",
          "name": "stdout",
          "text": [
            "7\n",
            "[1, 2, 3, 4, 5, 6, 7, 4]\n",
            "2\n",
            "1\n",
            "[1, 2, 3, 4, 5, 6, 7, 4, 9]\n",
            "9\n",
            "1\n",
            "41\n"
          ]
        }
      ]
    },
    {
      "cell_type": "markdown",
      "source": [
        "Changing the element of a list since it is mutable"
      ],
      "metadata": {
        "id": "KS5DWnIR6Xfe"
      }
    },
    {
      "cell_type": "code",
      "source": [
        "nlis = ['python', 3.14, 2022, [1, 1, 2, 3, 5, 8, 13, 21, 34], ('hello', 'python', 3,14, 2022)]\n",
        "print('Before changing:', nlis)\n",
        "nlis[0] = 'hello python!'\n",
        "print('After changing:', nlis)\n",
        "nlis[1] = 1.618\n",
        "print('After changing:', nlis)\n",
        "nlis[2] = [3.14, 2022]\n",
        "print('After changing:', nlis)"
      ],
      "metadata": {
        "colab": {
          "base_uri": "https://localhost:8080/"
        },
        "id": "E94n5zOm8KGu",
        "outputId": "6c45dc62-0c92-44a0-f2bf-a0a082c58832"
      },
      "execution_count": 2,
      "outputs": [
        {
          "output_type": "stream",
          "name": "stdout",
          "text": [
            "Before changing: ['python', 3.14, 2022, [1, 1, 2, 3, 5, 8, 13, 21, 34], ('hello', 'python', 3, 14, 2022)]\n",
            "After changing: ['hello python!', 3.14, 2022, [1, 1, 2, 3, 5, 8, 13, 21, 34], ('hello', 'python', 3, 14, 2022)]\n",
            "After changing: ['hello python!', 1.618, 2022, [1, 1, 2, 3, 5, 8, 13, 21, 34], ('hello', 'python', 3, 14, 2022)]\n",
            "After changing: ['hello python!', 1.618, [3.14, 2022], [1, 1, 2, 3, 5, 8, 13, 21, 34], ('hello', 'python', 3, 14, 2022)]\n"
          ]
        }
      ]
    },
    {
      "cell_type": "markdown",
      "source": [
        "Deleting the element from the list using del() function"
      ],
      "metadata": {
        "id": "diQSxIAp-QpO"
      }
    },
    {
      "cell_type": "code",
      "source": [
        "print('Before changing:', nlis)\n",
        "del(nlis[0])\n",
        "print('After changing:', nlis)\n",
        "del(nlis[-1])\n",
        "print('After changing:', nlis)"
      ],
      "metadata": {
        "colab": {
          "base_uri": "https://localhost:8080/"
        },
        "id": "ZmE0qXIz-V9j",
        "outputId": "cd2bc861-d216-464d-e7af-07a12b8d83fb"
      },
      "execution_count": 3,
      "outputs": [
        {
          "output_type": "stream",
          "name": "stdout",
          "text": [
            "Before changing: ['hello python!', 1.618, [3.14, 2022], [1, 1, 2, 3, 5, 8, 13, 21, 34], ('hello', 'python', 3, 14, 2022)]\n",
            "After changing: [1.618, [3.14, 2022], [1, 1, 2, 3, 5, 8, 13, 21, 34], ('hello', 'python', 3, 14, 2022)]\n",
            "After changing: [1.618, [3.14, 2022], [1, 1, 2, 3, 5, 8, 13, 21, 34]]\n"
          ]
        }
      ]
    },
    {
      "cell_type": "code",
      "source": [
        "nlis = ['python', 3.14, 2022, [1, 1, 2, 3, 5, 8, 13, 21, 34], ('hello', 'python', 3,14, 2022)] print('Before dele\u0000ng:', nlis)\n",
        "del nlis\n",
        "print('After deleting:', nlis)"
      ],
      "metadata": {
        "id": "d4LGMFN2-o6F"
      },
      "execution_count": null,
      "outputs": []
    },
    {
      "cell_type": "markdown",
      "source": [
        "Conversion of a strong into a list using split() function"
      ],
      "metadata": {
        "id": "UwpUI4vw-s6l"
      }
    },
    {
      "cell_type": "code",
      "source": [
        "message = 'Python is a programming language.'\n",
        "message.split()"
      ],
      "metadata": {
        "colab": {
          "base_uri": "https://localhost:8080/"
        },
        "id": "uzjNhtYS-0ks",
        "outputId": "349086be-dc00-4b7f-e330-86932d25cd70"
      },
      "execution_count": 4,
      "outputs": [
        {
          "output_type": "execute_result",
          "data": {
            "text/plain": [
              "['Python', 'is', 'a', 'programming', 'language.']"
            ]
          },
          "metadata": {},
          "execution_count": 4
        }
      ]
    },
    {
      "cell_type": "markdown",
      "source": [
        "\n",
        "Use of split() function with a delimiter"
      ],
      "metadata": {
        "id": "cTlEVime_mHq"
      }
    },
    {
      "cell_type": "code",
      "source": [
        "text = 'p,y,t,h,o,n'\n",
        "text.split(\",\" )"
      ],
      "metadata": {
        "colab": {
          "base_uri": "https://localhost:8080/"
        },
        "id": "fjBi83OU_v8U",
        "outputId": "d3d12b63-d34a-4303-a323-8019c4e6c22d"
      },
      "execution_count": 5,
      "outputs": [
        {
          "output_type": "execute_result",
          "data": {
            "text/plain": [
              "['p', 'y', 't', 'h', 'o', 'n']"
            ]
          },
          "metadata": {},
          "execution_count": 5
        }
      ]
    },
    {
      "cell_type": "markdown",
      "source": [
        "Basic operations"
      ],
      "metadata": {
        "id": "cDeGBnRz_26b"
      }
    },
    {
      "cell_type": "code",
      "source": [
        "nlis_1 = ['a', 'b', 'hello', 'Python']\n",
        "nlis_2 = [1,2,3,4, 5, 6]\n",
        "print(len(nlis_1))\n",
        "print(len(nlis_2))\n",
        "print(nlis_1+nlis_2)\n",
        "print(nlis_1*3)\n",
        "print(nlis_2*3)\n",
        "for i in nlis_1:\n",
        "      print(i)\n",
        "for i in nlis_2:\n",
        "      print(i)\n",
        "print(4 in nlis_1)\n",
        "print(4 in nlis_2)"
      ],
      "metadata": {
        "colab": {
          "base_uri": "https://localhost:8080/"
        },
        "id": "H2Tx_gq1_5BU",
        "outputId": "a0998e4c-2db3-406d-8f17-5ae3733ded9f"
      },
      "execution_count": 7,
      "outputs": [
        {
          "output_type": "stream",
          "name": "stdout",
          "text": [
            "4\n",
            "6\n",
            "['a', 'b', 'hello', 'Python', 1, 2, 3, 4, 5, 6]\n",
            "['a', 'b', 'hello', 'Python', 'a', 'b', 'hello', 'Python', 'a', 'b', 'hello', 'Python']\n",
            "[1, 2, 3, 4, 5, 6, 1, 2, 3, 4, 5, 6, 1, 2, 3, 4, 5, 6]\n",
            "a\n",
            "b\n",
            "hello\n",
            "Python\n",
            "1\n",
            "2\n",
            "3\n",
            "4\n",
            "5\n",
            "6\n",
            "False\n",
            "True\n"
          ]
        }
      ]
    },
    {
      "cell_type": "markdown",
      "source": [
        "Copy the list"
      ],
      "metadata": {
        "id": "fs6SpTBOAssm"
      }
    },
    {
      "cell_type": "code",
      "source": [
        "nlis = ['python', 3.14, 2022, [1, 1, 2, 3, 5, 8, 13, 21, 34], ('hello', 'python', 3,14, 2022)]\n",
        "copy_list = nlis\n",
        "print('nlis:', nlis)\n",
        "print('copy_list:', copy_list)"
      ],
      "metadata": {
        "colab": {
          "base_uri": "https://localhost:8080/"
        },
        "id": "Id9L82ibAuJE",
        "outputId": "381e3a50-2c70-4e46-d268-656d464e21af"
      },
      "execution_count": 9,
      "outputs": [
        {
          "output_type": "stream",
          "name": "stdout",
          "text": [
            "nlis: ['python', 3.14, 2022, [1, 1, 2, 3, 5, 8, 13, 21, 34], ('hello', 'python', 3, 14, 2022)]\n",
            "copy_list: ['python', 3.14, 2022, [1, 1, 2, 3, 5, 8, 13, 21, 34], ('hello', 'python', 3, 14, 2022)]\n"
          ]
        }
      ]
    },
    {
      "cell_type": "code",
      "source": [
        "# The element in the copied list also changes when the element in the original list was changed.\n",
        "# See the following example\n",
        "nlis = ['python', 3.14, 2022, [1, 1, 2, 3, 5, 8, 13, 21, 34], ('hello', 'python', 3,14, 2022)]\n",
        "print(nlis)\n",
        "copy_list = nlis\n",
        "print(copy_list)\n",
        "print('copy_list[0]:', copy_list[0])\n",
        "nlis[0] = 'hello python!'\n",
        "print('copy_list[0]:', copy_list[0])"
      ],
      "metadata": {
        "colab": {
          "base_uri": "https://localhost:8080/"
        },
        "id": "0wMvPDIVA4zo",
        "outputId": "ff2e44e6-6d4c-4f2e-a735-14b570a462b9"
      },
      "execution_count": 10,
      "outputs": [
        {
          "output_type": "stream",
          "name": "stdout",
          "text": [
            "['python', 3.14, 2022, [1, 1, 2, 3, 5, 8, 13, 21, 34], ('hello', 'python', 3, 14, 2022)]\n",
            "['python', 3.14, 2022, [1, 1, 2, 3, 5, 8, 13, 21, 34], ('hello', 'python', 3, 14, 2022)]\n",
            "copy_list[0]: python\n",
            "copy_list[0]: hello python!\n"
          ]
        }
      ]
    },
    {
      "cell_type": "markdown",
      "source": [
        "Clone the list"
      ],
      "metadata": {
        "id": "dITRkYcuBvqT"
      }
    },
    {
      "cell_type": "code",
      "source": [
        "# The cloned list is a new copy or clone of the original list.\n",
        "nlis = ['python', 3.14, 2022, [1, 1, 2, 3, 5, 8, 13, 21, 34], ('hello', 'python', 3,14, 2022)]\n",
        "clone_lis = nlis[:]\n",
        "clone_lis"
      ],
      "metadata": {
        "colab": {
          "base_uri": "https://localhost:8080/"
        },
        "id": "NOKVJvLfB0_c",
        "outputId": "88aa90c3-c521-4d8c-f16f-85d6985f4f40"
      },
      "execution_count": 11,
      "outputs": [
        {
          "output_type": "execute_result",
          "data": {
            "text/plain": [
              "['python',\n",
              " 3.14,\n",
              " 2022,\n",
              " [1, 1, 2, 3, 5, 8, 13, 21, 34],\n",
              " ('hello', 'python', 3, 14, 2022)]"
            ]
          },
          "metadata": {},
          "execution_count": 11
        }
      ]
    },
    {
      "cell_type": "code",
      "source": [
        "# When an element in the original list is changed, the element in the cloned list does not change.\n",
        "nlis = ['python', 3.14, 2022, [1, 1, 2, 3, 5, 8, 13, 21, 34], ('hello', 'python', 3,14, 2022)]\n",
        "print(nlis)\n",
        "clone_list = nlis[:]\n",
        "print(clone_list)\n",
        "print('clone_list[0]:', clone_list[0])\n",
        "nlis[0] = 'hello, python!'\n",
        "print('nlis[0]:', nlis[0])"
      ],
      "metadata": {
        "colab": {
          "base_uri": "https://localhost:8080/"
        },
        "id": "036V6ntbCFZd",
        "outputId": "0078d1f4-9fb0-4f58-ca9a-d195a21d9168"
      },
      "execution_count": 12,
      "outputs": [
        {
          "output_type": "stream",
          "name": "stdout",
          "text": [
            "['python', 3.14, 2022, [1, 1, 2, 3, 5, 8, 13, 21, 34], ('hello', 'python', 3, 14, 2022)]\n",
            "['python', 3.14, 2022, [1, 1, 2, 3, 5, 8, 13, 21, 34], ('hello', 'python', 3, 14, 2022)]\n",
            "clone_list[0]: python\n",
            "nlis[0]: hello, python!\n"
          ]
        }
      ]
    },
    {
      "cell_type": "markdown",
      "source": [
        "Concatenate the list"
      ],
      "metadata": {
        "id": "PfoigGBCCjv4"
      }
    },
    {
      "cell_type": "code",
      "source": [
        "a_list = ['a', 'b', ['c', 'd'], 'e']\n",
        "b_list = [1,2,3,4,5,(6,7), True, False]\n",
        "new_list = a_list + b_list\n",
        "print(new_list)"
      ],
      "metadata": {
        "colab": {
          "base_uri": "https://localhost:8080/"
        },
        "id": "xiWzsOR7Cm_t",
        "outputId": "930600fe-1970-42db-bbae-1a05c7a8e31d"
      },
      "execution_count": 13,
      "outputs": [
        {
          "output_type": "stream",
          "name": "stdout",
          "text": [
            "['a', 'b', ['c', 'd'], 'e', 1, 2, 3, 4, 5, (6, 7), True, False]\n"
          ]
        }
      ]
    },
    {
      "cell_type": "markdown",
      "source": [
        "input(),eval(),format(), Comparison,Logical, Assignment, Identity, Membership"
      ],
      "metadata": {
        "id": "yiUsi893DC0P"
      }
    },
    {
      "cell_type": "code",
      "source": [
        "text = input('Enter a string:')\n",
        "print('The text is', text)\n",
        "print(type(text))"
      ],
      "metadata": {
        "colab": {
          "base_uri": "https://localhost:8080/"
        },
        "id": "k_fyVTUlDVKO",
        "outputId": "b9958c5f-004e-484f-a379-15be92ecc7f1"
      },
      "execution_count": 14,
      "outputs": [
        {
          "output_type": "stream",
          "name": "stdout",
          "text": [
            "Enter a string:hi\n",
            "The text is hi\n",
            "<class 'str'>\n"
          ]
        }
      ]
    },
    {
      "cell_type": "code",
      "source": [
        "# Although the function wants an integer, the type of the entered number is a string.\n",
        "number = input('Enter an integer: ')\n",
        "print('The number is', number)\n",
        "print(type(number))"
      ],
      "metadata": {
        "colab": {
          "base_uri": "https://localhost:8080/"
        },
        "id": "sqUKNGaZDgEp",
        "outputId": "6f24c45d-e530-430b-e73f-d7b18a236d6e"
      },
      "execution_count": 15,
      "outputs": [
        {
          "output_type": "stream",
          "name": "stdout",
          "text": [
            "Enter an integer: 7\n",
            "The number is 7\n",
            "<class 'str'>\n"
          ]
        }
      ]
    },
    {
      "cell_type": "code",
      "source": [
        "number = int(input('Enter an integer:'))\n",
        "print('The number is', number)\n",
        "print(type(number))"
      ],
      "metadata": {
        "colab": {
          "base_uri": "https://localhost:8080/"
        },
        "id": "QCJA_Xm6Dq4k",
        "outputId": "f272d6e4-4c80-44a1-9863-cb4a949395dd"
      },
      "execution_count": 16,
      "outputs": [
        {
          "output_type": "stream",
          "name": "stdout",
          "text": [
            "Enter an integer:7\n",
            "The number is 7\n",
            "<class 'int'>\n"
          ]
        }
      ]
    },
    {
      "cell_type": "code",
      "source": [
        "number = float(input('Enter an integer:'))\n",
        "print('The number is', number)\n",
        "print(type(number))"
      ],
      "metadata": {
        "colab": {
          "base_uri": "https://localhost:8080/"
        },
        "id": "C0xulgxrDwNt",
        "outputId": "e39f61e8-6998-45c3-98b7-97b6dc9a9f8e"
      },
      "execution_count": 17,
      "outputs": [
        {
          "output_type": "stream",
          "name": "stdout",
          "text": [
            "Enter an integer:6.0\n",
            "The number is 6.0\n",
            "<class 'float'>\n"
          ]
        }
      ]
    },
    {
      "cell_type": "code",
      "source": [
        "expression = '8+7'\n",
        "total = eval(expression)\n",
        "print('Sum of the expression is', total)\n",
        "print(type(expression))\n",
        "print(type(total))"
      ],
      "metadata": {
        "colab": {
          "base_uri": "https://localhost:8080/"
        },
        "id": "2R74svOSEGNC",
        "outputId": "8866cba2-2947-4bc8-f878-467713820892"
      },
      "execution_count": 18,
      "outputs": [
        {
          "output_type": "stream",
          "name": "stdout",
          "text": [
            "Sum of the expression is 15\n",
            "<class 'str'>\n",
            "<class 'int'>\n"
          ]
        }
      ]
    },
    {
      "cell_type": "code",
      "source": [
        "a = float(input('Enter the pi number:'))\n",
        "b = float(input('Enter the golden ratio:'))\n",
        "total = a + b\n",
        "print('Sum of {} and {} is {}.'.format(a, b, total))"
      ],
      "metadata": {
        "colab": {
          "base_uri": "https://localhost:8080/"
        },
        "id": "YRXCzYLrEgTU",
        "outputId": "3fb16ba8-5ce2-436b-9e68-8f8db0fa719b"
      },
      "execution_count": 19,
      "outputs": [
        {
          "output_type": "stream",
          "name": "stdout",
          "text": [
            "Enter the pi number:3.14\n",
            "Enter the golden ratio:1.618\n",
            "Sum of 3.14 and 1.618 is 4.758.\n"
          ]
        }
      ]
    },
    {
      "cell_type": "code",
      "source": [
        "a = input('Enter your favorite fruit:')\n",
        "b = input('Enter your favorite food:')\n",
        "print('I like {} and {}.'.format(a, b))\n",
        "print('I like {0} and {1}.'.format(a, b))\n",
        "print('I like {1} and {0}.'.format(a, b))"
      ],
      "metadata": {
        "colab": {
          "base_uri": "https://localhost:8080/"
        },
        "id": "lAOda6-wEx_F",
        "outputId": "526d4071-be5a-4123-874e-f06dd6b212cf"
      },
      "execution_count": 20,
      "outputs": [
        {
          "output_type": "stream",
          "name": "stdout",
          "text": [
            "Enter your favorite fruit:Apple\n",
            "Enter your favorite food:kebab\n",
            "I like Apple and kebab.\n",
            "I like Apple and kebab.\n",
            "I like kebab and Apple.\n"
          ]
        }
      ]
    },
    {
      "cell_type": "code",
      "source": [
        "a = 3.14\n",
        "b = 1.618\n",
        "print('a>b is:', a>b)\n",
        "print('a<b is:', a<b)\n",
        "print('a<=b is:', a<=b)\n",
        "print('a>=b is:', a>=b)\n",
        "print('a==b is:', a==b)\n",
        "print('a!=b is:', a!=b)"
      ],
      "metadata": {
        "colab": {
          "base_uri": "https://localhost:8080/"
        },
        "id": "VmI5UWY5FA2p",
        "outputId": "3982481a-6726-4a3f-fbf4-76ca77275b61"
      },
      "execution_count": 21,
      "outputs": [
        {
          "output_type": "stream",
          "name": "stdout",
          "text": [
            "a>b is: True\n",
            "a<b is: False\n",
            "a<=b is: False\n",
            "a>=b is: True\n",
            "a==b is: False\n",
            "a!=b is: True\n"
          ]
        }
      ]
    },
    {
      "cell_type": "code",
      "source": [
        "a = 3.14\n",
        "b = 1.618\n",
        "c = 12\n",
        "d = 3.14\n",
        "print(a>b and c>a)\n",
        "print(b>c and d>a)\n",
        "print(b<c or d>a)\n",
        "print( not a==b)\n",
        "print(not a==d)"
      ],
      "metadata": {
        "colab": {
          "base_uri": "https://localhost:8080/"
        },
        "id": "WLX1pA-FFOzm",
        "outputId": "350bc337-b97f-490d-e1c7-18e9fb4a2c27"
      },
      "execution_count": 22,
      "outputs": [
        {
          "output_type": "stream",
          "name": "stdout",
          "text": [
            "True\n",
            "False\n",
            "True\n",
            "True\n",
            "False\n"
          ]
        }
      ]
    },
    {
      "cell_type": "code",
      "source": [
        "x = 3.14\n",
        "x+=5\n",
        "print(x)"
      ],
      "metadata": {
        "colab": {
          "base_uri": "https://localhost:8080/"
        },
        "id": "gfKyvPOyF_sj",
        "outputId": "9a932bd7-d8d5-44e1-c165-a93477bccd37"
      },
      "execution_count": 23,
      "outputs": [
        {
          "output_type": "stream",
          "name": "stdout",
          "text": [
            "8.14\n"
          ]
        }
      ]
    },
    {
      "cell_type": "code",
      "source": [
        "x = 3.14\n",
        "x-=5\n",
        "print(x)"
      ],
      "metadata": {
        "colab": {
          "base_uri": "https://localhost:8080/"
        },
        "id": "4R94W7CaGFrk",
        "outputId": "bbcabbba-2774-4bc4-b7a5-eaabfbb3618a"
      },
      "execution_count": 24,
      "outputs": [
        {
          "output_type": "stream",
          "name": "stdout",
          "text": [
            "-1.8599999999999999\n"
          ]
        }
      ]
    },
    {
      "cell_type": "code",
      "source": [
        "x = 3.14\n",
        "x*=5\n",
        "print(x)"
      ],
      "metadata": {
        "colab": {
          "base_uri": "https://localhost:8080/"
        },
        "id": "DOR3yk5-GLQH",
        "outputId": "d79149a5-849e-4cf3-ceb2-1625a2bcb8b6"
      },
      "execution_count": 25,
      "outputs": [
        {
          "output_type": "stream",
          "name": "stdout",
          "text": [
            "15.700000000000001\n"
          ]
        }
      ]
    },
    {
      "cell_type": "code",
      "source": [
        "x = 3.14\n",
        "x/=5\n",
        "print(x)"
      ],
      "metadata": {
        "colab": {
          "base_uri": "https://localhost:8080/"
        },
        "id": "9Je7Fmu_GPHQ",
        "outputId": "4d400a94-5a24-45ba-b0cd-6d7642f5ed15"
      },
      "execution_count": 26,
      "outputs": [
        {
          "output_type": "stream",
          "name": "stdout",
          "text": [
            "0.628\n"
          ]
        }
      ]
    },
    {
      "cell_type": "code",
      "source": [
        "x = 3.14\n",
        "x%=5\n",
        "print(x)"
      ],
      "metadata": {
        "colab": {
          "base_uri": "https://localhost:8080/"
        },
        "id": "evzk8ioBGW1P",
        "outputId": "346a2902-eb59-443b-e4aa-f0d23601c58e"
      },
      "execution_count": 27,
      "outputs": [
        {
          "output_type": "stream",
          "name": "stdout",
          "text": [
            "3.14\n"
          ]
        }
      ]
    },
    {
      "cell_type": "code",
      "source": [
        "x = 3.14\n",
        "x//=5\n",
        "print(x)"
      ],
      "metadata": {
        "colab": {
          "base_uri": "https://localhost:8080/"
        },
        "id": "3b10Q2obGabe",
        "outputId": "ada2fc46-4e9a-40ec-a8d2-e36884f2697e"
      },
      "execution_count": 28,
      "outputs": [
        {
          "output_type": "stream",
          "name": "stdout",
          "text": [
            "0.0\n"
          ]
        }
      ]
    },
    {
      "cell_type": "code",
      "source": [
        "x = 3.14\n",
        "x**=5\n",
        "print(x)"
      ],
      "metadata": {
        "colab": {
          "base_uri": "https://localhost:8080/"
        },
        "id": "G_GPrWluGfpC",
        "outputId": "7f71d3a8-7d46-4dc2-e5e1-8c1c4b2ae5e9"
      },
      "execution_count": 29,
      "outputs": [
        {
          "output_type": "stream",
          "name": "stdout",
          "text": [
            "305.2447761824001\n"
          ]
        }
      ]
    },
    {
      "cell_type": "code",
      "source": [
        "a = 3.14\n",
        "b = 1.618\n",
        "print(a is b)\n",
        "print(a is not b)\n",
        "msg1= 'Hello, Python!'\n",
        "msg2 = 'Hello, World!'\n",
        "print(msg1 is msg2)\n",
        "print(msg1 is not msg2)\n",
        "lis1 = [3.14, 1.618]\n",
        "lis2 = [3.14, 1.618]\n",
        "print(lis1 is lis2) # You should see a list copy behavior\n",
        "print(lis1 is not lis2)"
      ],
      "metadata": {
        "colab": {
          "base_uri": "https://localhost:8080/"
        },
        "id": "EjMr5SjuGjzc",
        "outputId": "3b99377f-9d33-416e-b92a-cdce0c927b76"
      },
      "execution_count": 30,
      "outputs": [
        {
          "output_type": "stream",
          "name": "stdout",
          "text": [
            "False\n",
            "True\n",
            "False\n",
            "True\n",
            "False\n",
            "True\n"
          ]
        }
      ]
    },
    {
      "cell_type": "code",
      "source": [
        "# take a list\n",
        "nlis = [4, 6, 7, 8, 'hello', (4,5), {'name': 'Python'}, {1,2,3}, [1,2,3]]\n",
        "print(5 in nlis)\n",
        "print(4 not in nlis)\n",
        "print((4,5) in nlis)\n",
        "print(9 not in nlis)"
      ],
      "metadata": {
        "id": "T_JHSkOMHOhk"
      },
      "execution_count": null,
      "outputs": []
    }
  ]
}