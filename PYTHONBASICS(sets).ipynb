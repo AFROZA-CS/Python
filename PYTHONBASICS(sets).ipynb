{
  "nbformat": 4,
  "nbformat_minor": 0,
  "metadata": {
    "colab": {
      "provenance": []
    },
    "kernelspec": {
      "name": "python3",
      "display_name": "Python 3"
    },
    "language_info": {
      "name": "python"
    }
  },
  "cells": [
    {
      "cell_type": "code",
      "execution_count": 1,
      "metadata": {
        "colab": {
          "base_uri": "https://localhost:8080/"
        },
        "id": "SmwG6tSvNCR_",
        "outputId": "53698187-632f-4316-f219-4d1e4de692f8"
      },
      "outputs": [
        {
          "output_type": "stream",
          "name": "stdout",
          "text": [
            "<class 'dict'>\n"
          ]
        }
      ],
      "source": [
        "# The empty set of curly braces denotes the empty dictionary, not empty set\n",
        "x = {}\n",
        "print(type(x))"
      ]
    },
    {
      "cell_type": "code",
      "source": [
        "# To take a set without elements, use set() function without any items\n",
        "y = set()\n",
        "print(type(y))"
      ],
      "metadata": {
        "colab": {
          "base_uri": "https://localhost:8080/"
        },
        "id": "e-odUSljNY8Q",
        "outputId": "e1adb67a-7362-4fee-8587-1293b6e5793d"
      },
      "execution_count": 2,
      "outputs": [
        {
          "output_type": "stream",
          "name": "stdout",
          "text": [
            "<class 'set'>\n"
          ]
        }
      ]
    },
    {
      "cell_type": "code",
      "source": [
        "# Addition of an element to a set\n",
        "set3 = set(['Hello Python!', 3.14, 1.618, 'Hello World!', 3.14, 1.618, True, False, 2022])\n",
        "set3.add('Hi, Python!')\n",
        "set3"
      ],
      "metadata": {
        "colab": {
          "base_uri": "https://localhost:8080/"
        },
        "id": "ZplU8KYBNkAz",
        "outputId": "c4a74e94-4366-404e-d925-624ca8af001b"
      },
      "execution_count": 3,
      "outputs": [
        {
          "output_type": "execute_result",
          "data": {
            "text/plain": [
              "{1.618,\n",
              " 2022,\n",
              " 3.14,\n",
              " False,\n",
              " 'Hello Python!',\n",
              " 'Hello World!',\n",
              " 'Hi, Python!',\n",
              " True}"
            ]
          },
          "metadata": {},
          "execution_count": 3
        }
      ]
    },
    {
      "cell_type": "code",
      "source": [
        "# Addition of the same element\n",
        "set3.add('Hi, Python!')\n",
        "set3\n",
        "\n",
        "# As you see that there is only one from the added element 'Hi, Python!'"
      ],
      "metadata": {
        "colab": {
          "base_uri": "https://localhost:8080/"
        },
        "id": "jrsmLJ1IN46B",
        "outputId": "d02041fe-62a8-4c7c-9bae-e551bacdc097"
      },
      "execution_count": 4,
      "outputs": [
        {
          "output_type": "execute_result",
          "data": {
            "text/plain": [
              "{1.618,\n",
              " 2022,\n",
              " 3.14,\n",
              " False,\n",
              " 'Hello Python!',\n",
              " 'Hello World!',\n",
              " 'Hi, Python!',\n",
              " True}"
            ]
          },
          "metadata": {},
          "execution_count": 4
        }
      ]
    },
    {
      "cell_type": "code",
      "source": [
        "x_set = {6,7,8,9}\n",
        "print(x_set)\n",
        "x_set.update({3,4,5})\n",
        "print(x_set)"
      ],
      "metadata": {
        "colab": {
          "base_uri": "https://localhost:8080/"
        },
        "id": "hMAttPadOHL1",
        "outputId": "0d35dc09-a7c7-49fe-a103-5b4c708f5246"
      },
      "execution_count": 5,
      "outputs": [
        {
          "output_type": "stream",
          "name": "stdout",
          "text": [
            "{8, 9, 6, 7}\n",
            "{3, 4, 5, 6, 7, 8, 9}\n"
          ]
        }
      ]
    },
    {
      "cell_type": "code",
      "source": [
        "set3.remove('Hello Python!')\n",
        "set3"
      ],
      "metadata": {
        "colab": {
          "base_uri": "https://localhost:8080/"
        },
        "id": "7ZLvDWrpOegf",
        "outputId": "a0f1aa5e-8e1c-44c6-8b28-6f914f9efc78"
      },
      "execution_count": 6,
      "outputs": [
        {
          "output_type": "execute_result",
          "data": {
            "text/plain": [
              "{1.618, 2022, 3.14, False, 'Hello World!', 'Hi, Python!', True}"
            ]
          },
          "metadata": {},
          "execution_count": 6
        }
      ]
    },
    {
      "cell_type": "code",
      "source": [
        "set3.discard(3.14)\n",
        "set3"
      ],
      "metadata": {
        "colab": {
          "base_uri": "https://localhost:8080/"
        },
        "id": "anVoQNCqOk-D",
        "outputId": "dd89e39a-6c3c-488c-9d1b-4d94f61911eb"
      },
      "execution_count": 7,
      "outputs": [
        {
          "output_type": "execute_result",
          "data": {
            "text/plain": [
              "{1.618, 2022, False, 'Hello World!', 'Hi, Python!', True}"
            ]
          },
          "metadata": {},
          "execution_count": 7
        }
      ]
    },
    {
      "cell_type": "code",
      "source": [
        "# To verify if the element is in the set\n",
        "1.618 in set3"
      ],
      "metadata": {
        "colab": {
          "base_uri": "https://localhost:8080/"
        },
        "id": "InoBT70uO5ap",
        "outputId": "57d7897c-cf00-461f-8b4c-5100ee0d512a"
      },
      "execution_count": 8,
      "outputs": [
        {
          "output_type": "execute_result",
          "data": {
            "text/plain": [
              "True"
            ]
          },
          "metadata": {},
          "execution_count": 8
        }
      ]
    },
    {
      "cell_type": "code",
      "source": [
        "# Take two sets\n",
        "set4 = set(['Hello Python!', 3.14, 1.618, 'Hello World!'])\n",
        "set5 = set([3.14, 1.618, True, False, 2022])\n",
        "# Printing two sets\n",
        "set4, set5"
      ],
      "metadata": {
        "colab": {
          "base_uri": "https://localhost:8080/"
        },
        "id": "ejF2QvjGQtCO",
        "outputId": "f84e710d-0bb1-4cc5-d328-2cabb3f2ca14"
      },
      "execution_count": 9,
      "outputs": [
        {
          "output_type": "execute_result",
          "data": {
            "text/plain": [
              "({1.618, 3.14, 'Hello Python!', 'Hello World!'},\n",
              " {False, True, 1.618, 3.14, 2022})"
            ]
          },
          "metadata": {},
          "execution_count": 9
        }
      ]
    },
    {
      "cell_type": "code",
      "source": [
        "intersection = set4 & set5\n",
        "intersection"
      ],
      "metadata": {
        "colab": {
          "base_uri": "https://localhost:8080/"
        },
        "id": "_6Nd9bKgQ64Z",
        "outputId": "b1d1582c-2cf5-4013-c48e-3e9712f1493a"
      },
      "execution_count": 10,
      "outputs": [
        {
          "output_type": "execute_result",
          "data": {
            "text/plain": [
              "{1.618, 3.14}"
            ]
          },
          "metadata": {},
          "execution_count": 10
        }
      ]
    },
    {
      "cell_type": "code",
      "source": [
        "set4.intersection(set5)"
      ],
      "metadata": {
        "colab": {
          "base_uri": "https://localhost:8080/"
        },
        "id": "rh2FCdhARAiH",
        "outputId": "dec3f935-1a75-4733-fe6e-cdd46059dbff"
      },
      "execution_count": 11,
      "outputs": [
        {
          "output_type": "execute_result",
          "data": {
            "text/plain": [
              "{1.618, 3.14}"
            ]
          },
          "metadata": {},
          "execution_count": 11
        }
      ]
    },
    {
      "cell_type": "code",
      "source": [
        "print(set4.difference(set5))\n",
        "print(set5.difference(set4))\n",
        "\n",
        "# The same process can make using subtraction operator as follows:\n",
        "\n",
        "print(set4-set5)\n",
        "print(set5-set4)"
      ],
      "metadata": {
        "colab": {
          "base_uri": "https://localhost:8080/"
        },
        "id": "Auu8g8XTRJ-j",
        "outputId": "05162224-6ace-4191-ae9b-87d4ec7e0442"
      },
      "execution_count": 12,
      "outputs": [
        {
          "output_type": "stream",
          "name": "stdout",
          "text": [
            "{'Hello World!', 'Hello Python!'}\n",
            "{False, True, 2022}\n",
            "{'Hello World!', 'Hello Python!'}\n",
            "{False, True, 2022}\n"
          ]
        }
      ]
    },
    {
      "cell_type": "code",
      "source": [
        "print(set4>set5)\n",
        "print(set5>set4)\n",
        "print(set4==set5)"
      ],
      "metadata": {
        "colab": {
          "base_uri": "https://localhost:8080/"
        },
        "id": "DmrHKsz5R3qf",
        "outputId": "8d114074-9a7f-4066-d5e1-5d65a363d3c3"
      },
      "execution_count": 13,
      "outputs": [
        {
          "output_type": "stream",
          "name": "stdout",
          "text": [
            "False\n",
            "False\n",
            "False\n"
          ]
        }
      ]
    },
    {
      "cell_type": "code",
      "source": [
        "A = [1,1,2,2,3,3,4,4,5,5] # Take a list\n",
        "B = {1,1,2,2,3,3,4,4,5,5} # Take a set\n",
        "print('The minimum number of A is', min(A))\n",
        "print('The minimum number of B is', min(B))\n",
        "print('The maximum number of A is', max(A))\n",
        "print('The maximum number of B is', max(B))\n",
        "print('The sum of A is', sum(A))\n",
        "print('The sum of B is', sum(B))\n",
        "\n",
        "# As you see that the sum of A and B is different. Because the set takes no duplicate."
      ],
      "metadata": {
        "colab": {
          "base_uri": "https://localhost:8080/"
        },
        "id": "MJJA4-ftR_oG",
        "outputId": "0837b2af-37f9-444b-a580-62b2f79af85b"
      },
      "execution_count": 14,
      "outputs": [
        {
          "output_type": "stream",
          "name": "stdout",
          "text": [
            "The minimum number of A is 1\n",
            "The minimum number of B is 1\n",
            "The maximum number of A is 5\n",
            "The maximum number of B is 5\n",
            "The sum of A is 30\n",
            "The sum of B is 15\n"
          ]
        }
      ]
    },
    {
      "cell_type": "code",
      "source": [
        "set6 = {'Python', 1,2,3, [1,2,3]}\n",
        "set6"
      ],
      "metadata": {
        "id": "ZrJx_9AxSaFj"
      },
      "execution_count": null,
      "outputs": []
    },
    {
      "cell_type": "code",
      "source": [
        "set7 = {1,2,3,4}\n",
        "set7[1]"
      ],
      "metadata": {
        "id": "4G-g2VLiSmNE"
      },
      "execution_count": null,
      "outputs": []
    },
    {
      "cell_type": "code",
      "source": [
        "set8 = {1,3,5,7,9}\n",
        "print(set8)\n",
        "set9 = set8\n",
        "print(set9)\n",
        "set8.add(11)\n",
        "print(set8)\n",
        "print(set9)\n",
        "\"\"\"\n",
        "As you see that although the number 8 is added into the set 'set8', the added number is also added into the set 'set9'\n",
        "\"\"\""
      ],
      "metadata": {
        "colab": {
          "base_uri": "https://localhost:8080/",
          "height": 125
        },
        "id": "rLT-2ZnrSypI",
        "outputId": "ee6ebd66-52ef-4a2f-d503-088683c359b2"
      },
      "execution_count": 15,
      "outputs": [
        {
          "output_type": "stream",
          "name": "stdout",
          "text": [
            "{1, 3, 5, 7, 9}\n",
            "{1, 3, 5, 7, 9}\n",
            "{1, 3, 5, 7, 9, 11}\n",
            "{1, 3, 5, 7, 9, 11}\n"
          ]
        },
        {
          "output_type": "execute_result",
          "data": {
            "text/plain": [
              "\"\\nAs you see that although the number 8 is added into the set 'set8', the added number is also added into the set 'set9'\\n\""
            ],
            "application/vnd.google.colaboratory.intrinsic+json": {
              "type": "string"
            }
          },
          "metadata": {},
          "execution_count": 15
        }
      ]
    },
    {
      "cell_type": "code",
      "source": [
        "set8 = {1,3,5,7,9}\n",
        "print(set8)\n",
        "set9 = set8.copy()\n",
        "print(set9)\n",
        "set8.add(11)\n",
        "print(set8)\n",
        "print(set9)\n",
        "\"\"\"\n",
        "When this function is used, the original set stays unmodified.\n",
        "A new copy stored in another set of memory locations is created. The change made in one copy won't reflect in another.\n",
        "\"\"\""
      ],
      "metadata": {
        "colab": {
          "base_uri": "https://localhost:8080/",
          "height": 143
        },
        "id": "NpJN3INHUIh0",
        "outputId": "7354d318-2ede-4889-c290-09b172cf5a64"
      },
      "execution_count": 16,
      "outputs": [
        {
          "output_type": "stream",
          "name": "stdout",
          "text": [
            "{1, 3, 5, 7, 9}\n",
            "{1, 3, 5, 7, 9}\n",
            "{1, 3, 5, 7, 9, 11}\n",
            "{1, 3, 5, 7, 9}\n"
          ]
        },
        {
          "output_type": "execute_result",
          "data": {
            "text/plain": [
              "\"\\nWhen this function is used, the original set stays unmodified.\\nA new copy stored in another set of memory locations is created. The change made in one copy won't reflect in another.\\n\""
            ],
            "application/vnd.google.colaboratory.intrinsic+json": {
              "type": "string"
            }
          },
          "metadata": {},
          "execution_count": 16
        }
      ]
    },
    {
      "cell_type": "code",
      "source": [
        "x = {0, 1,1,2,3,5,8,13, 21,34}\n",
        "print(x)\n",
        "x.clear()\n",
        "print(x)"
      ],
      "metadata": {
        "colab": {
          "base_uri": "https://localhost:8080/"
        },
        "id": "GYWzGS-lVWgX",
        "outputId": "7dc1bb50-d78f-432a-dc34-0eff096e4427"
      },
      "execution_count": 17,
      "outputs": [
        {
          "output_type": "stream",
          "name": "stdout",
          "text": [
            "{0, 1, 2, 3, 34, 5, 8, 13, 21}\n",
            "set()\n"
          ]
        }
      ]
    },
    {
      "cell_type": "code",
      "source": [
        "x = {0, 1,1,2,3,5,8,13,21,34}\n",
        "print(x)\n",
        "x.pop()\n",
        "print(x)"
      ],
      "metadata": {
        "colab": {
          "base_uri": "https://localhost:8080/"
        },
        "id": "OBlGU6C2VgtN",
        "outputId": "51cfd905-5322-4f89-fc53-474a6a201326"
      },
      "execution_count": 19,
      "outputs": [
        {
          "output_type": "stream",
          "name": "stdout",
          "text": [
            "{0, 1, 2, 3, 34, 5, 8, 13, 21}\n",
            "{1, 2, 3, 34, 5, 8, 13, 21}\n"
          ]
        }
      ]
    }
  ]
}